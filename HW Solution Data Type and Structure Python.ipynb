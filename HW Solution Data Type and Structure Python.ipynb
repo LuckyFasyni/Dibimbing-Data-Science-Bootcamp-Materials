{
 "cells": [
  {
   "cell_type": "markdown",
   "id": "5dd812b6",
   "metadata": {},
   "source": [
    "## HW Solution Data Type and Structure Python"
   ]
  },
  {
   "cell_type": "markdown",
   "id": "0b7184eb",
   "metadata": {},
   "source": [
    "Task 1 - Medium Level\n",
    "\n",
    "Write an if..else… code in Python to check whether a word is a palindrome or not. \n",
    "\n",
    "Input: ‘malam’\n",
    "\n",
    "Output: ‘malam’ is a Palindrome\n",
    "\n",
    "Input: ‘ABBA’\n",
    "\n",
    "Output: ‘ABBA’ is a Palindrome\n",
    "\n",
    "Input: ‘Python’\n",
    "\n",
    "Output: ‘Python’ is not a Palindrome.\n"
   ]
  },
  {
   "cell_type": "markdown",
   "id": "c2736a07",
   "metadata": {},
   "source": [
    "**How would I do it**\n",
    "\n",
    "1. Create a function which take a word as an input\n",
    "2. Create a new variable which is the flipped word\n",
    "3. Compare it with the original word: return true if the flipped word is the same as the input word"
   ]
  },
  {
   "cell_type": "markdown",
   "id": "1233a71c",
   "metadata": {},
   "source": [
    "You can access a string with the Python's built in slicer `[start:end:step]`. Use `step = -1` to flip a word. No need to specify the start & end position to flip a word."
   ]
  },
  {
   "cell_type": "code",
   "execution_count": 1,
   "id": "f42f245f",
   "metadata": {},
   "outputs": [
    {
     "data": {
      "text/plain": [
       "'abbA'"
      ]
     },
     "execution_count": 1,
     "metadata": {},
     "output_type": "execute_result"
    }
   ],
   "source": [
    "test_string = 'Abba'\n",
    "\n",
    "test_string[::-1]"
   ]
  },
  {
   "cell_type": "markdown",
   "id": "3f8c910d",
   "metadata": {},
   "source": [
    "Remember that the comparison is case-sensitive, so you need to lowercase the word to be safe."
   ]
  },
  {
   "cell_type": "code",
   "execution_count": 2,
   "id": "d3759650",
   "metadata": {},
   "outputs": [
    {
     "data": {
      "text/plain": [
       "False"
      ]
     },
     "execution_count": 2,
     "metadata": {},
     "output_type": "execute_result"
    }
   ],
   "source": [
    "test_string == test_string[::-1]"
   ]
  },
  {
   "cell_type": "code",
   "execution_count": 3,
   "id": "9dc07e20",
   "metadata": {},
   "outputs": [
    {
     "data": {
      "text/plain": [
       "True"
      ]
     },
     "execution_count": 3,
     "metadata": {},
     "output_type": "execute_result"
    }
   ],
   "source": [
    "test_string.lower() == test_string[::-1].lower()"
   ]
  },
  {
   "cell_type": "code",
   "execution_count": 4,
   "id": "9c410972",
   "metadata": {},
   "outputs": [],
   "source": [
    "def palindrome_checker(word):\n",
    "    lowered_word = word.lower()\n",
    "    lowered_word_flipped = lowered_word[::-1]\n",
    "    \n",
    "    if lowered_word == lowered_word_flipped:\n",
    "        print(\"'\" + word + \"' is a palindrome\")\n",
    "    else:\n",
    "        print(\"'\" + word + \"' is not a palindrome\")"
   ]
  },
  {
   "cell_type": "code",
   "execution_count": 5,
   "id": "f4930e3c",
   "metadata": {},
   "outputs": [
    {
     "name": "stdout",
     "output_type": "stream",
     "text": [
      "'Kasur ini rusak' is a palindrome\n"
     ]
    }
   ],
   "source": [
    "palindrome_checker('Kasur ini rusak')"
   ]
  },
  {
   "cell_type": "code",
   "execution_count": 6,
   "id": "eb2cf5dd",
   "metadata": {},
   "outputs": [
    {
     "name": "stdout",
     "output_type": "stream",
     "text": [
      "'Python sucks' is not a palindrome\n"
     ]
    }
   ],
   "source": [
    "palindrome_checker('Python sucks')"
   ]
  },
  {
   "cell_type": "code",
   "execution_count": 7,
   "id": "39074a1b",
   "metadata": {},
   "outputs": [
    {
     "name": "stdout",
     "output_type": "stream",
     "text": [
      "'malam' is a palindrome\n"
     ]
    }
   ],
   "source": [
    "palindrome_checker('malam')"
   ]
  },
  {
   "cell_type": "markdown",
   "id": "500301e5",
   "metadata": {},
   "source": [
    "##########################################################"
   ]
  },
  {
   "cell_type": "markdown",
   "id": "3900c4fe",
   "metadata": {},
   "source": [
    "Task 2 - Medium Level\n",
    "\n",
    "black_list_word = [‘andi’, ‘susi’, bola]\n",
    "\n",
    "input1 : \"andi sedang makan nasi padang\" , output1 : \"ada black list word\"\n",
    "\n",
    "input2 : \"sandi sedang makan bermain tenis\" , output2 : \"tidak ada black list word\"\n",
    "\n",
    "input3 : \"andi dan sandi sedang makan\" , output3 : \"ada black list word\"\n",
    "\n",
    "input4 : \"budi dan susi sedang makan\" , output4 : \"ada black list word\"\n",
    "\n",
    "input5 : \"erna  sedang berenang\" , output5 : \"tidak ada black list word\"\n",
    "\n",
    "input6 : \"raffa sedang makan bermain bola\" , output6 : \"ada black list word\"\n",
    "\n",
    "Tulislah code dalam python, dimana ketika diberikan inputan sesuai dengan kasus diatas maka outputnya adalah: \n",
    "\n",
    "\"ada black list word\"\n",
    "\n",
    "\"tidak ada black list word\"\n",
    "\n",
    "tergantung apakah ada word yang di black list dalam satu kalimat\n"
   ]
  },
  {
   "cell_type": "code",
   "execution_count": 8,
   "id": "e7fbc28e",
   "metadata": {},
   "outputs": [
    {
     "data": {
      "text/plain": [
       "['andi', 'susi', 'bola']"
      ]
     },
     "execution_count": 8,
     "metadata": {},
     "output_type": "execute_result"
    }
   ],
   "source": [
    "black_list_word = ['andi', 'susi', 'bola']\n",
    "black_list_word"
   ]
  },
  {
   "cell_type": "code",
   "execution_count": null,
   "id": "a3d24ec6",
   "metadata": {},
   "outputs": [],
   "source": []
  },
  {
   "cell_type": "code",
   "execution_count": 9,
   "id": "9deb37d5",
   "metadata": {},
   "outputs": [],
   "source": [
    "def common_data(list1, list2):\n",
    "    result = False\n",
    "    # traverse in the 1st list\n",
    "    for x in list1:\n",
    "  \n",
    "        # traverse in the 2nd list\n",
    "        for y in list2:\n",
    "    \n",
    "            # if one common\n",
    "            if x == y:\n",
    "                return 'Ada black list word' \n",
    "            else:\n",
    "                return 'Tidak ada black list word' \n",
    "                  \n",
    "    return result\n",
    "\n"
   ]
  },
  {
   "cell_type": "code",
   "execution_count": 10,
   "id": "9f308649",
   "metadata": {},
   "outputs": [
    {
     "name": "stdout",
     "output_type": "stream",
     "text": [
      "Ada black list word\n"
     ]
    }
   ],
   "source": [
    "kalimat = 'andi sedang makan nasi padang'\n",
    "\n",
    "kalimat = kalimat.split(' ')\n",
    "\n",
    "print(common_data(black_list_word, kalimat))"
   ]
  },
  {
   "cell_type": "code",
   "execution_count": 11,
   "id": "76c5650f",
   "metadata": {},
   "outputs": [
    {
     "name": "stdout",
     "output_type": "stream",
     "text": [
      "Tidak ada black list word\n"
     ]
    }
   ],
   "source": [
    "kalimat = 'sandi sedang makan bermain tenis'\n",
    "\n",
    "kalimat = kalimat.split(' ')\n",
    "\n",
    "print(common_data(black_list_word, kalimat))"
   ]
  },
  {
   "cell_type": "code",
   "execution_count": 12,
   "id": "9f96d19d",
   "metadata": {},
   "outputs": [
    {
     "name": "stdout",
     "output_type": "stream",
     "text": [
      "Ada black list word\n"
     ]
    }
   ],
   "source": [
    "kalimat = 'andi dan sandi sedang makan'\n",
    "\n",
    "kalimat = kalimat.split(' ')\n",
    "\n",
    "print(common_data(black_list_word, kalimat))"
   ]
  },
  {
   "cell_type": "code",
   "execution_count": null,
   "id": "c48e9e52",
   "metadata": {},
   "outputs": [],
   "source": []
  }
 ],
 "metadata": {
  "kernelspec": {
   "display_name": "Python 3",
   "language": "python",
   "name": "python3"
  },
  "language_info": {
   "codemirror_mode": {
    "name": "ipython",
    "version": 3
   },
   "file_extension": ".py",
   "mimetype": "text/x-python",
   "name": "python",
   "nbconvert_exporter": "python",
   "pygments_lexer": "ipython3",
   "version": "3.6.13"
  },
  "toc": {
   "base_numbering": 1,
   "nav_menu": {},
   "number_sections": true,
   "sideBar": true,
   "skip_h1_title": false,
   "title_cell": "Table of Contents",
   "title_sidebar": "Contents",
   "toc_cell": false,
   "toc_position": {},
   "toc_section_display": true,
   "toc_window_display": false
  },
  "varInspector": {
   "cols": {
    "lenName": 16,
    "lenType": 16,
    "lenVar": 40
   },
   "kernels_config": {
    "python": {
     "delete_cmd_postfix": "",
     "delete_cmd_prefix": "del ",
     "library": "var_list.py",
     "varRefreshCmd": "print(var_dic_list())"
    },
    "r": {
     "delete_cmd_postfix": ") ",
     "delete_cmd_prefix": "rm(",
     "library": "var_list.r",
     "varRefreshCmd": "cat(var_dic_list()) "
    }
   },
   "types_to_exclude": [
    "module",
    "function",
    "builtin_function_or_method",
    "instance",
    "_Feature"
   ],
   "window_display": false
  }
 },
 "nbformat": 4,
 "nbformat_minor": 5
}
