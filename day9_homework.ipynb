{
 "cells": [
  {
   "cell_type": "code",
   "execution_count": 1,
   "id": "882d5513",
   "metadata": {},
   "outputs": [],
   "source": [
    "import pandas as pd\n",
    "import numpy as np"
   ]
  },
  {
   "cell_type": "code",
   "execution_count": 2,
   "id": "926a0b60",
   "metadata": {},
   "outputs": [],
   "source": [
    "df = pd.read_csv('telco_customer_churn.csv')"
   ]
  },
  {
   "cell_type": "markdown",
   "id": "7785e649",
   "metadata": {},
   "source": [
    "### Welcome to Day 9 Homework. Please answer the questions below!"
   ]
  },
  {
   "cell_type": "markdown",
   "id": "49ed3504",
   "metadata": {},
   "source": [
    "1. Buanglah baris dengan `tenure` samadengan 0 (jadi, data yang akan kita analisa di PR ini adalah baris-baris dengan `tenure` TIDAK samadengan 0). Ada berapa baris yang sekarang tersedia di data kita?\n",
    "\n",
    "2. Bagi customer yang ***TIDAK MEMILIKI PARTNER*** dan ***TIDAK MEMILIKI DEPENDENTS***, berapa ***rata-rata*** dari `tenure` mereka?\n",
    "\n",
    "3. Bagi customer yang ***MEMILIKI PARTNER*** dan ***TIDAK MEMILIKI DEPENDENTS***, berapa maksimal `MonthlyCharges` yang tercata?\n",
    "\n",
    "4. Berapa banyak customer yang ***TIDAK MEMILIKI PARTNER*** namun ***MEMILIKI DEPENDENTS***?\n",
    "\n",
    "5. Berapa rata-rata ***TOTAL CHARGES*** dari customer ***NON-SENIOR CITIZEN*** (Senior Citizen = 0) yang memiliki ***PHONE SERVICE*** dan memiliki ***INTERNET SERVICE FIBER OPTIC***?"
   ]
  },
  {
   "cell_type": "markdown",
   "id": "9f8c283f",
   "metadata": {},
   "source": [
    "#### Silakan menuliskan kode untuk menjawab 5 pertanyaan di atas..."
   ]
  },
  {
   "cell_type": "code",
   "execution_count": null,
   "id": "9abc37d6",
   "metadata": {},
   "outputs": [],
   "source": []
  },
  {
   "cell_type": "code",
   "execution_count": null,
   "id": "85898f63",
   "metadata": {},
   "outputs": [],
   "source": []
  },
  {
   "cell_type": "code",
   "execution_count": null,
   "id": "fa30c020",
   "metadata": {},
   "outputs": [],
   "source": []
  },
  {
   "cell_type": "code",
   "execution_count": null,
   "id": "2f3b2269",
   "metadata": {},
   "outputs": [],
   "source": []
  },
  {
   "cell_type": "code",
   "execution_count": null,
   "id": "9179e1c6",
   "metadata": {},
   "outputs": [],
   "source": []
  },
  {
   "cell_type": "code",
   "execution_count": null,
   "id": "81cdf861",
   "metadata": {},
   "outputs": [],
   "source": []
  },
  {
   "cell_type": "code",
   "execution_count": null,
   "id": "e28cac47",
   "metadata": {},
   "outputs": [],
   "source": []
  },
  {
   "cell_type": "markdown",
   "id": "82e27591",
   "metadata": {},
   "source": [
    "### Silakan menjawab di bawah ini:"
   ]
  },
  {
   "cell_type": "markdown",
   "id": "32da4e60",
   "metadata": {},
   "source": [
    "#### Soal 1:\n",
    "Buanglah baris dengan tenure samadengan 0 (jadi, data yang akan kita analisa di PR ini adalah baris-baris dengan tenure TIDAK samadengan 0). Ada berapa baris yang sekarang tersedia di data kita?\n",
    "\n",
    "#### Jawaban: ___ (langsung edit di sini aja)"
   ]
  },
  {
   "cell_type": "markdown",
   "id": "ba6e8a61",
   "metadata": {},
   "source": [
    "#### Soal 2:\n",
    "Bagi customer yang TIDAK MEMILIKI PARTNER dan TIDAK MEMILIKI DEPENDENTS, berapa rata-rata dari tenure mereka?\n",
    "\n",
    "#### Jawaban: ____"
   ]
  },
  {
   "cell_type": "markdown",
   "id": "b5c0f46b",
   "metadata": {},
   "source": [
    "#### Soal 3:\n",
    "Bagi customer yang MEMILIKI PARTNER dan TIDAK MEMILIKI DEPENDENTS, berapa maksimal MonthlyCharges yang tercata?\n",
    "\n",
    "#### Jawaban: ___"
   ]
  },
  {
   "cell_type": "markdown",
   "id": "de4b2bb3",
   "metadata": {},
   "source": [
    "#### Soal 4:\n",
    "Berapa banyak customer yang TIDAK MEMILIKI PARTNER namun MEMILIKI DEPENDENTS?\n",
    "\n",
    "#### Jawaban: ___"
   ]
  },
  {
   "cell_type": "markdown",
   "id": "3b91d8b0",
   "metadata": {},
   "source": [
    "#### Soal 5:\n",
    "Berapa rata-rata TOTAL CHARGES dari customer NON-SENIOR CITIZEN (Senior Citizen = 0) yang memiliki PHONE SERVICE dan memiliki INTERNET SERVICE FIBER OPTIC?\n",
    "\n",
    "#### Jawaban: ___"
   ]
  },
  {
   "cell_type": "code",
   "execution_count": null,
   "id": "c839350a",
   "metadata": {},
   "outputs": [],
   "source": []
  },
  {
   "cell_type": "code",
   "execution_count": null,
   "id": "02f5beda",
   "metadata": {},
   "outputs": [],
   "source": []
  },
  {
   "cell_type": "code",
   "execution_count": null,
   "id": "bb9945d4",
   "metadata": {},
   "outputs": [],
   "source": []
  }
 ],
 "metadata": {
  "kernelspec": {
   "display_name": "Python 3",
   "language": "python",
   "name": "python3"
  },
  "language_info": {
   "codemirror_mode": {
    "name": "ipython",
    "version": 3
   },
   "file_extension": ".py",
   "mimetype": "text/x-python",
   "name": "python",
   "nbconvert_exporter": "python",
   "pygments_lexer": "ipython3",
   "version": "3.7.0"
  }
 },
 "nbformat": 4,
 "nbformat_minor": 5
}
