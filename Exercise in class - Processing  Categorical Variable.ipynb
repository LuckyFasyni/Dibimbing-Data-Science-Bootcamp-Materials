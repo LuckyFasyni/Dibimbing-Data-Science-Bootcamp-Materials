{
 "cells": [
  {
   "cell_type": "markdown",
   "id": "52470a80",
   "metadata": {},
   "source": [
    "## Import Library"
   ]
  },
  {
   "cell_type": "code",
   "execution_count": 1,
   "id": "254f2e24",
   "metadata": {},
   "outputs": [],
   "source": [
    "import warnings\n",
    "warnings.filterwarnings('ignore')\n",
    "\n",
    "import numpy as np\n",
    "import pandas as pd\n",
    "import seaborn as sns\n",
    "import matplotlib.pyplot as plt\n",
    "%matplotlib inline\n",
    "\n",
    "from sklearn import preprocessing"
   ]
  },
  {
   "cell_type": "markdown",
   "id": "d6a81fea",
   "metadata": {},
   "source": [
    "## Load dataset"
   ]
  },
  {
   "cell_type": "code",
   "execution_count": 2,
   "id": "f35ca4d6",
   "metadata": {},
   "outputs": [
    {
     "data": {
      "text/html": [
       "<div>\n",
       "<style scoped>\n",
       "    .dataframe tbody tr th:only-of-type {\n",
       "        vertical-align: middle;\n",
       "    }\n",
       "\n",
       "    .dataframe tbody tr th {\n",
       "        vertical-align: top;\n",
       "    }\n",
       "\n",
       "    .dataframe thead th {\n",
       "        text-align: right;\n",
       "    }\n",
       "</style>\n",
       "<table border=\"1\" class=\"dataframe\">\n",
       "  <thead>\n",
       "    <tr style=\"text-align: right;\">\n",
       "      <th></th>\n",
       "      <th>product_id</th>\n",
       "      <th>price</th>\n",
       "      <th>units_sold</th>\n",
       "      <th>rating</th>\n",
       "      <th>rating_count</th>\n",
       "      <th>tags</th>\n",
       "      <th>product_color</th>\n",
       "    </tr>\n",
       "  </thead>\n",
       "  <tbody>\n",
       "    <tr>\n",
       "      <th>0</th>\n",
       "      <td>5e9ae51d43d6a96e303acdb0</td>\n",
       "      <td>16.00</td>\n",
       "      <td>100</td>\n",
       "      <td>3.76</td>\n",
       "      <td>54</td>\n",
       "      <td>Summer,Fashion,womenunderwearsuit,printedpajam...</td>\n",
       "      <td>white</td>\n",
       "    </tr>\n",
       "    <tr>\n",
       "      <th>1</th>\n",
       "      <td>58940d436a0d3d5da4e95a38</td>\n",
       "      <td>8.00</td>\n",
       "      <td>20000</td>\n",
       "      <td>3.45</td>\n",
       "      <td>6135</td>\n",
       "      <td>Mini,womens dresses,Summer,Patchwork,fashion d...</td>\n",
       "      <td>green</td>\n",
       "    </tr>\n",
       "    <tr>\n",
       "      <th>2</th>\n",
       "      <td>5ea10e2c617580260d55310a</td>\n",
       "      <td>8.00</td>\n",
       "      <td>100</td>\n",
       "      <td>3.57</td>\n",
       "      <td>14</td>\n",
       "      <td>Summer,cardigan,women beachwear,chiffon,Sexy w...</td>\n",
       "      <td>leopardprint</td>\n",
       "    </tr>\n",
       "    <tr>\n",
       "      <th>3</th>\n",
       "      <td>5cedf17ad1d44c52c59e4aca</td>\n",
       "      <td>8.00</td>\n",
       "      <td>5000</td>\n",
       "      <td>4.03</td>\n",
       "      <td>579</td>\n",
       "      <td>Summer,Shorts,Cotton,Cotton T Shirt,Sleeve,pri...</td>\n",
       "      <td>black</td>\n",
       "    </tr>\n",
       "    <tr>\n",
       "      <th>4</th>\n",
       "      <td>5ebf5819ebac372b070b0e70</td>\n",
       "      <td>2.72</td>\n",
       "      <td>100</td>\n",
       "      <td>3.10</td>\n",
       "      <td>20</td>\n",
       "      <td>Summer,Plus Size,Lace,Casual pants,Bottom,pant...</td>\n",
       "      <td>yellow</td>\n",
       "    </tr>\n",
       "  </tbody>\n",
       "</table>\n",
       "</div>"
      ],
      "text/plain": [
       "                 product_id  price  units_sold  rating  rating_count  \\\n",
       "0  5e9ae51d43d6a96e303acdb0  16.00         100    3.76            54   \n",
       "1  58940d436a0d3d5da4e95a38   8.00       20000    3.45          6135   \n",
       "2  5ea10e2c617580260d55310a   8.00         100    3.57            14   \n",
       "3  5cedf17ad1d44c52c59e4aca   8.00        5000    4.03           579   \n",
       "4  5ebf5819ebac372b070b0e70   2.72         100    3.10            20   \n",
       "\n",
       "                                                tags product_color  \n",
       "0  Summer,Fashion,womenunderwearsuit,printedpajam...         white  \n",
       "1  Mini,womens dresses,Summer,Patchwork,fashion d...         green  \n",
       "2  Summer,cardigan,women beachwear,chiffon,Sexy w...  leopardprint  \n",
       "3  Summer,Shorts,Cotton,Cotton T Shirt,Sleeve,pri...         black  \n",
       "4  Summer,Plus Size,Lace,Casual pants,Bottom,pant...        yellow  "
      ]
     },
     "execution_count": 2,
     "metadata": {},
     "output_type": "execute_result"
    }
   ],
   "source": [
    "df = pd.read_csv('dataset/product_unit_solds.csv')\n",
    "df.head()"
   ]
  },
  {
   "cell_type": "markdown",
   "id": "08a4cbec",
   "metadata": {},
   "source": [
    "## Data preprocessing"
   ]
  },
  {
   "cell_type": "markdown",
   "id": "7b6fd31c",
   "metadata": {},
   "source": [
    "### product_color"
   ]
  },
  {
   "cell_type": "code",
   "execution_count": 3,
   "id": "8e84a9e1",
   "metadata": {},
   "outputs": [
    {
     "data": {
      "text/plain": [
       "black               264\n",
       "white               206\n",
       "blue                 84\n",
       "pink                 84\n",
       "yellow               80\n",
       "                   ... \n",
       "brown & yellow        1\n",
       "light green           1\n",
       "Blue                  1\n",
       "leopardprint          1\n",
       "winered & yellow      1\n",
       "Name: product_color, Length: 101, dtype: int64"
      ]
     },
     "execution_count": 3,
     "metadata": {},
     "output_type": "execute_result"
    }
   ],
   "source": [
    "df['product_color'].value_counts()"
   ]
  },
  {
   "cell_type": "markdown",
   "id": "cb872a4c",
   "metadata": {},
   "source": [
    "### tags"
   ]
  },
  {
   "cell_type": "code",
   "execution_count": 10,
   "id": "c09bd644",
   "metadata": {},
   "outputs": [
    {
     "data": {
      "text/html": [
       "<div>\n",
       "<style scoped>\n",
       "    .dataframe tbody tr th:only-of-type {\n",
       "        vertical-align: middle;\n",
       "    }\n",
       "\n",
       "    .dataframe tbody tr th {\n",
       "        vertical-align: top;\n",
       "    }\n",
       "\n",
       "    .dataframe thead th {\n",
       "        text-align: right;\n",
       "    }\n",
       "</style>\n",
       "<table border=\"1\" class=\"dataframe\">\n",
       "  <thead>\n",
       "    <tr style=\"text-align: right;\">\n",
       "      <th></th>\n",
       "      <th>product_id</th>\n",
       "      <th>price</th>\n",
       "      <th>units_sold</th>\n",
       "      <th>rating</th>\n",
       "      <th>rating_count</th>\n",
       "      <th>tags</th>\n",
       "      <th>product_color</th>\n",
       "    </tr>\n",
       "  </thead>\n",
       "  <tbody>\n",
       "    <tr>\n",
       "      <th>0</th>\n",
       "      <td>5e9ae51d43d6a96e303acdb0</td>\n",
       "      <td>16.00</td>\n",
       "      <td>100</td>\n",
       "      <td>3.76</td>\n",
       "      <td>54</td>\n",
       "      <td>Summer,Fashion,womenunderwearsuit,printedpajam...</td>\n",
       "      <td>white</td>\n",
       "    </tr>\n",
       "    <tr>\n",
       "      <th>1</th>\n",
       "      <td>58940d436a0d3d5da4e95a38</td>\n",
       "      <td>8.00</td>\n",
       "      <td>20000</td>\n",
       "      <td>3.45</td>\n",
       "      <td>6135</td>\n",
       "      <td>Mini,womens dresses,Summer,Patchwork,fashion d...</td>\n",
       "      <td>green</td>\n",
       "    </tr>\n",
       "    <tr>\n",
       "      <th>2</th>\n",
       "      <td>5ea10e2c617580260d55310a</td>\n",
       "      <td>8.00</td>\n",
       "      <td>100</td>\n",
       "      <td>3.57</td>\n",
       "      <td>14</td>\n",
       "      <td>Summer,cardigan,women beachwear,chiffon,Sexy w...</td>\n",
       "      <td>leopardprint</td>\n",
       "    </tr>\n",
       "    <tr>\n",
       "      <th>3</th>\n",
       "      <td>5cedf17ad1d44c52c59e4aca</td>\n",
       "      <td>8.00</td>\n",
       "      <td>5000</td>\n",
       "      <td>4.03</td>\n",
       "      <td>579</td>\n",
       "      <td>Summer,Shorts,Cotton,Cotton T Shirt,Sleeve,pri...</td>\n",
       "      <td>black</td>\n",
       "    </tr>\n",
       "    <tr>\n",
       "      <th>4</th>\n",
       "      <td>5ebf5819ebac372b070b0e70</td>\n",
       "      <td>2.72</td>\n",
       "      <td>100</td>\n",
       "      <td>3.10</td>\n",
       "      <td>20</td>\n",
       "      <td>Summer,Plus Size,Lace,Casual pants,Bottom,pant...</td>\n",
       "      <td>yellow</td>\n",
       "    </tr>\n",
       "  </tbody>\n",
       "</table>\n",
       "</div>"
      ],
      "text/plain": [
       "                 product_id  price  units_sold  rating  rating_count  \\\n",
       "0  5e9ae51d43d6a96e303acdb0  16.00         100    3.76            54   \n",
       "1  58940d436a0d3d5da4e95a38   8.00       20000    3.45          6135   \n",
       "2  5ea10e2c617580260d55310a   8.00         100    3.57            14   \n",
       "3  5cedf17ad1d44c52c59e4aca   8.00        5000    4.03           579   \n",
       "4  5ebf5819ebac372b070b0e70   2.72         100    3.10            20   \n",
       "\n",
       "                                                tags product_color  \n",
       "0  Summer,Fashion,womenunderwearsuit,printedpajam...         white  \n",
       "1  Mini,womens dresses,Summer,Patchwork,fashion d...         green  \n",
       "2  Summer,cardigan,women beachwear,chiffon,Sexy w...  leopardprint  \n",
       "3  Summer,Shorts,Cotton,Cotton T Shirt,Sleeve,pri...         black  \n",
       "4  Summer,Plus Size,Lace,Casual pants,Bottom,pant...        yellow  "
      ]
     },
     "execution_count": 10,
     "metadata": {},
     "output_type": "execute_result"
    }
   ],
   "source": [
    "df = pd.read_csv('dataset/product_unit_solds.csv')\n",
    "df.head()"
   ]
  },
  {
   "cell_type": "code",
   "execution_count": 11,
   "id": "6af83e08",
   "metadata": {},
   "outputs": [
    {
     "data": {
      "text/plain": [
       "\"Summer,Fashion,womenunderwearsuit,printedpajamasset,womencasualshort,Women's Fashion,flamingo,loungewearset,Casual,Shirt,casualsleepwear,Shorts,flamingotshirt,Elastic,Vintage,Tops,tshirtandshortsset,Women,Sleepwear,Print,womenpajamasset,womennightwear,Pajamas,womensleepwearset\""
      ]
     },
     "execution_count": 11,
     "metadata": {},
     "output_type": "execute_result"
    }
   ],
   "source": [
    "df['tags'].values[0]"
   ]
  }
 ],
 "metadata": {
  "kernelspec": {
   "display_name": "gpuenv",
   "language": "python",
   "name": "gpuenv"
  },
  "language_info": {
   "codemirror_mode": {
    "name": "ipython",
    "version": 3
   },
   "file_extension": ".py",
   "mimetype": "text/x-python",
   "name": "python",
   "nbconvert_exporter": "python",
   "pygments_lexer": "ipython3",
   "version": "3.6.13"
  },
  "toc": {
   "base_numbering": 1,
   "nav_menu": {},
   "number_sections": true,
   "sideBar": true,
   "skip_h1_title": false,
   "title_cell": "Table of Contents",
   "title_sidebar": "Contents",
   "toc_cell": false,
   "toc_position": {},
   "toc_section_display": true,
   "toc_window_display": true
  },
  "varInspector": {
   "cols": {
    "lenName": 16,
    "lenType": 16,
    "lenVar": 40
   },
   "kernels_config": {
    "python": {
     "delete_cmd_postfix": "",
     "delete_cmd_prefix": "del ",
     "library": "var_list.py",
     "varRefreshCmd": "print(var_dic_list())"
    },
    "r": {
     "delete_cmd_postfix": ") ",
     "delete_cmd_prefix": "rm(",
     "library": "var_list.r",
     "varRefreshCmd": "cat(var_dic_list()) "
    }
   },
   "types_to_exclude": [
    "module",
    "function",
    "builtin_function_or_method",
    "instance",
    "_Feature"
   ],
   "window_display": false
  }
 },
 "nbformat": 4,
 "nbformat_minor": 5
}
