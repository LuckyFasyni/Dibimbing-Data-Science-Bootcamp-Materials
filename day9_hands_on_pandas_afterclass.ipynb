{
 "cells": [
  {
   "cell_type": "code",
   "execution_count": 1,
   "id": "684dc040",
   "metadata": {},
   "outputs": [],
   "source": [
    "import pandas as pd\n",
    "import numpy as np"
   ]
  },
  {
   "cell_type": "markdown",
   "id": "32ea8b12",
   "metadata": {},
   "source": [
    "## Day 9: Data Manipulation with Pandas - Hands On"
   ]
  },
  {
   "cell_type": "markdown",
   "id": "80094dae",
   "metadata": {},
   "source": [
    "### I. Create DataFrame"
   ]
  },
  {
   "cell_type": "code",
   "execution_count": 43,
   "id": "4fda7186",
   "metadata": {},
   "outputs": [
    {
     "data": {
      "text/plain": [
       "'1.1.5'"
      ]
     },
     "execution_count": 43,
     "metadata": {},
     "output_type": "execute_result"
    }
   ],
   "source": [
    "pd.__version__"
   ]
  },
  {
   "cell_type": "markdown",
   "id": "bde15ff4",
   "metadata": {},
   "source": [
    "Kita bisa membuat dataframe dengan menuliskan dictionary seperti ini."
   ]
  },
  {
   "cell_type": "code",
   "execution_count": 19,
   "id": "7f1ba0a7",
   "metadata": {},
   "outputs": [
    {
     "data": {
      "text/html": [
       "<div>\n",
       "<style scoped>\n",
       "    .dataframe tbody tr th:only-of-type {\n",
       "        vertical-align: middle;\n",
       "    }\n",
       "\n",
       "    .dataframe tbody tr th {\n",
       "        vertical-align: top;\n",
       "    }\n",
       "\n",
       "    .dataframe thead th {\n",
       "        text-align: right;\n",
       "    }\n",
       "</style>\n",
       "<table border=\"1\" class=\"dataframe\">\n",
       "  <thead>\n",
       "    <tr style=\"text-align: right;\">\n",
       "      <th></th>\n",
       "      <th>cust_id</th>\n",
       "      <th>item_bought</th>\n",
       "      <th>city</th>\n",
       "    </tr>\n",
       "  </thead>\n",
       "  <tbody>\n",
       "    <tr>\n",
       "      <th>0</th>\n",
       "      <td>A1</td>\n",
       "      <td>10</td>\n",
       "      <td>Bandung</td>\n",
       "    </tr>\n",
       "    <tr>\n",
       "      <th>1</th>\n",
       "      <td>A2</td>\n",
       "      <td>15</td>\n",
       "      <td>Surabaya</td>\n",
       "    </tr>\n",
       "    <tr>\n",
       "      <th>2</th>\n",
       "      <td>A3</td>\n",
       "      <td>20</td>\n",
       "      <td>Bekasi</td>\n",
       "    </tr>\n",
       "    <tr>\n",
       "      <th>3</th>\n",
       "      <td>A4</td>\n",
       "      <td>35</td>\n",
       "      <td>Tangerang</td>\n",
       "    </tr>\n",
       "    <tr>\n",
       "      <th>4</th>\n",
       "      <td>A5</td>\n",
       "      <td>4</td>\n",
       "      <td>Denpasar</td>\n",
       "    </tr>\n",
       "  </tbody>\n",
       "</table>\n",
       "</div>"
      ],
      "text/plain": [
       "  cust_id  item_bought       city\n",
       "0      A1           10    Bandung\n",
       "1      A2           15   Surabaya\n",
       "2      A3           20     Bekasi\n",
       "3      A4           35  Tangerang\n",
       "4      A5            4   Denpasar"
      ]
     },
     "execution_count": 19,
     "metadata": {},
     "output_type": "execute_result"
    }
   ],
   "source": [
    "df = pd.DataFrame({\n",
    "    \"cust_id\": [\"A1\", \"A2\", \"A3\", \"A4\", \"A5\"],\n",
    "    \"item_bought\": [10,15,20,35,4],\n",
    "    \"city\": [\"Bandung\", \"Surabaya\", \"Bekasi\", \"Tangerang\", \"Denpasar\"]\n",
    "    })\n",
    "df"
   ]
  },
  {
   "cell_type": "markdown",
   "id": "0c7037c7",
   "metadata": {},
   "source": [
    "Bisa juga pakai nested list, jadi datanya per baris, bukan per kolom."
   ]
  },
  {
   "cell_type": "code",
   "execution_count": 33,
   "id": "67f50424",
   "metadata": {},
   "outputs": [
    {
     "data": {
      "text/html": [
       "<div>\n",
       "<style scoped>\n",
       "    .dataframe tbody tr th:only-of-type {\n",
       "        vertical-align: middle;\n",
       "    }\n",
       "\n",
       "    .dataframe tbody tr th {\n",
       "        vertical-align: top;\n",
       "    }\n",
       "\n",
       "    .dataframe thead th {\n",
       "        text-align: right;\n",
       "    }\n",
       "</style>\n",
       "<table border=\"1\" class=\"dataframe\">\n",
       "  <thead>\n",
       "    <tr style=\"text-align: right;\">\n",
       "      <th></th>\n",
       "      <th>cust_id</th>\n",
       "      <th>quantity</th>\n",
       "      <th>city</th>\n",
       "    </tr>\n",
       "  </thead>\n",
       "  <tbody>\n",
       "    <tr>\n",
       "      <th>0</th>\n",
       "      <td>A1</td>\n",
       "      <td>10</td>\n",
       "      <td>Bandung</td>\n",
       "    </tr>\n",
       "    <tr>\n",
       "      <th>1</th>\n",
       "      <td>A2</td>\n",
       "      <td>15</td>\n",
       "      <td>Surabaya</td>\n",
       "    </tr>\n",
       "    <tr>\n",
       "      <th>2</th>\n",
       "      <td>A3</td>\n",
       "      <td>20</td>\n",
       "      <td>Bekasi</td>\n",
       "    </tr>\n",
       "    <tr>\n",
       "      <th>3</th>\n",
       "      <td>A4</td>\n",
       "      <td>35</td>\n",
       "      <td>Tangerang</td>\n",
       "    </tr>\n",
       "    <tr>\n",
       "      <th>4</th>\n",
       "      <td>A5</td>\n",
       "      <td>4</td>\n",
       "      <td>Denpasar</td>\n",
       "    </tr>\n",
       "  </tbody>\n",
       "</table>\n",
       "</div>"
      ],
      "text/plain": [
       "  cust_id  quantity       city\n",
       "0      A1        10    Bandung\n",
       "1      A2        15   Surabaya\n",
       "2      A3        20     Bekasi\n",
       "3      A4        35  Tangerang\n",
       "4      A5         4   Denpasar"
      ]
     },
     "execution_count": 33,
     "metadata": {},
     "output_type": "execute_result"
    }
   ],
   "source": [
    "df_2 = pd.DataFrame([\n",
    "    ['A1', 10, 'Bandung'],\n",
    "    ['A2', 15, 'Surabaya'],\n",
    "    ['A3', 20, 'Bekasi'],\n",
    "    ['A4', 35, 'Tangerang'],\n",
    "    ['A5', 4, 'Denpasar']\n",
    "])\n",
    "\n",
    "df_2.columns = ['cust_id', 'quantity', 'city']\n",
    "df_2"
   ]
  },
  {
   "cell_type": "code",
   "execution_count": null,
   "id": "07cb8835",
   "metadata": {},
   "outputs": [],
   "source": []
  },
  {
   "cell_type": "markdown",
   "id": "2f1b803e",
   "metadata": {},
   "source": [
    "### II. Basic Pandas Operation"
   ]
  },
  {
   "cell_type": "markdown",
   "id": "3a3d8e2f",
   "metadata": {},
   "source": [
    "#### II.1. Basic"
   ]
  },
  {
   "cell_type": "markdown",
   "id": "0e845a05",
   "metadata": {},
   "source": [
    "Basic overviews:"
   ]
  },
  {
   "cell_type": "code",
   "execution_count": 20,
   "id": "14c09c4d",
   "metadata": {},
   "outputs": [
    {
     "name": "stdout",
     "output_type": "stream",
     "text": [
      "<class 'pandas.core.frame.DataFrame'>\n",
      "RangeIndex: 5 entries, 0 to 4\n",
      "Data columns (total 3 columns):\n",
      " #   Column       Non-Null Count  Dtype \n",
      "---  ------       --------------  ----- \n",
      " 0   cust_id      5 non-null      object\n",
      " 1   item_bought  5 non-null      int64 \n",
      " 2   city         5 non-null      object\n",
      "dtypes: int64(1), object(2)\n",
      "memory usage: 248.0+ bytes\n"
     ]
    }
   ],
   "source": [
    "df.info()"
   ]
  },
  {
   "cell_type": "code",
   "execution_count": 28,
   "id": "715ae80a",
   "metadata": {},
   "outputs": [
    {
     "data": {
      "text/html": [
       "<div>\n",
       "<style scoped>\n",
       "    .dataframe tbody tr th:only-of-type {\n",
       "        vertical-align: middle;\n",
       "    }\n",
       "\n",
       "    .dataframe tbody tr th {\n",
       "        vertical-align: top;\n",
       "    }\n",
       "\n",
       "    .dataframe thead th {\n",
       "        text-align: right;\n",
       "    }\n",
       "</style>\n",
       "<table border=\"1\" class=\"dataframe\">\n",
       "  <thead>\n",
       "    <tr style=\"text-align: right;\">\n",
       "      <th></th>\n",
       "      <th>item_bought</th>\n",
       "    </tr>\n",
       "  </thead>\n",
       "  <tbody>\n",
       "    <tr>\n",
       "      <th>count</th>\n",
       "      <td>5.000000</td>\n",
       "    </tr>\n",
       "    <tr>\n",
       "      <th>mean</th>\n",
       "      <td>16.800000</td>\n",
       "    </tr>\n",
       "    <tr>\n",
       "      <th>std</th>\n",
       "      <td>11.777096</td>\n",
       "    </tr>\n",
       "    <tr>\n",
       "      <th>min</th>\n",
       "      <td>4.000000</td>\n",
       "    </tr>\n",
       "    <tr>\n",
       "      <th>25%</th>\n",
       "      <td>10.000000</td>\n",
       "    </tr>\n",
       "    <tr>\n",
       "      <th>50%</th>\n",
       "      <td>15.000000</td>\n",
       "    </tr>\n",
       "    <tr>\n",
       "      <th>75%</th>\n",
       "      <td>20.000000</td>\n",
       "    </tr>\n",
       "    <tr>\n",
       "      <th>max</th>\n",
       "      <td>35.000000</td>\n",
       "    </tr>\n",
       "  </tbody>\n",
       "</table>\n",
       "</div>"
      ],
      "text/plain": [
       "       item_bought\n",
       "count     5.000000\n",
       "mean     16.800000\n",
       "std      11.777096\n",
       "min       4.000000\n",
       "25%      10.000000\n",
       "50%      15.000000\n",
       "75%      20.000000\n",
       "max      35.000000"
      ]
     },
     "execution_count": 28,
     "metadata": {},
     "output_type": "execute_result"
    }
   ],
   "source": [
    "df.describe()"
   ]
  },
  {
   "cell_type": "code",
   "execution_count": 21,
   "id": "30616259",
   "metadata": {},
   "outputs": [
    {
     "data": {
      "text/plain": [
       "Index(['cust_id', 'item_bought', 'city'], dtype='object')"
      ]
     },
     "execution_count": 21,
     "metadata": {},
     "output_type": "execute_result"
    }
   ],
   "source": [
    "df.columns"
   ]
  },
  {
   "cell_type": "markdown",
   "id": "aa3b475f",
   "metadata": {},
   "source": [
    "Changing column names:"
   ]
  },
  {
   "cell_type": "code",
   "execution_count": 22,
   "id": "f3ec766d",
   "metadata": {},
   "outputs": [],
   "source": [
    "df.columns = ['cust_id', 'quantity', 'center_city']"
   ]
  },
  {
   "cell_type": "code",
   "execution_count": 23,
   "id": "43511228",
   "metadata": {},
   "outputs": [
    {
     "data": {
      "text/html": [
       "<div>\n",
       "<style scoped>\n",
       "    .dataframe tbody tr th:only-of-type {\n",
       "        vertical-align: middle;\n",
       "    }\n",
       "\n",
       "    .dataframe tbody tr th {\n",
       "        vertical-align: top;\n",
       "    }\n",
       "\n",
       "    .dataframe thead th {\n",
       "        text-align: right;\n",
       "    }\n",
       "</style>\n",
       "<table border=\"1\" class=\"dataframe\">\n",
       "  <thead>\n",
       "    <tr style=\"text-align: right;\">\n",
       "      <th></th>\n",
       "      <th>cust_id</th>\n",
       "      <th>quantity</th>\n",
       "      <th>center_city</th>\n",
       "    </tr>\n",
       "  </thead>\n",
       "  <tbody>\n",
       "    <tr>\n",
       "      <th>0</th>\n",
       "      <td>A1</td>\n",
       "      <td>10</td>\n",
       "      <td>Bandung</td>\n",
       "    </tr>\n",
       "    <tr>\n",
       "      <th>1</th>\n",
       "      <td>A2</td>\n",
       "      <td>15</td>\n",
       "      <td>Surabaya</td>\n",
       "    </tr>\n",
       "    <tr>\n",
       "      <th>2</th>\n",
       "      <td>A3</td>\n",
       "      <td>20</td>\n",
       "      <td>Bekasi</td>\n",
       "    </tr>\n",
       "    <tr>\n",
       "      <th>3</th>\n",
       "      <td>A4</td>\n",
       "      <td>35</td>\n",
       "      <td>Tangerang</td>\n",
       "    </tr>\n",
       "    <tr>\n",
       "      <th>4</th>\n",
       "      <td>A5</td>\n",
       "      <td>4</td>\n",
       "      <td>Denpasar</td>\n",
       "    </tr>\n",
       "  </tbody>\n",
       "</table>\n",
       "</div>"
      ],
      "text/plain": [
       "  cust_id  quantity center_city\n",
       "0      A1        10     Bandung\n",
       "1      A2        15    Surabaya\n",
       "2      A3        20      Bekasi\n",
       "3      A4        35   Tangerang\n",
       "4      A5         4    Denpasar"
      ]
     },
     "execution_count": 23,
     "metadata": {},
     "output_type": "execute_result"
    }
   ],
   "source": [
    "df"
   ]
  },
  {
   "cell_type": "markdown",
   "id": "8bd48ba4",
   "metadata": {},
   "source": [
    "DataFrame shape (row, column)"
   ]
  },
  {
   "cell_type": "code",
   "execution_count": 34,
   "id": "1385634a",
   "metadata": {},
   "outputs": [
    {
     "data": {
      "text/plain": [
       "(5, 3)"
      ]
     },
     "execution_count": 34,
     "metadata": {},
     "output_type": "execute_result"
    }
   ],
   "source": [
    "df.shape"
   ]
  },
  {
   "cell_type": "code",
   "execution_count": 35,
   "id": "7cc00fdb",
   "metadata": {},
   "outputs": [],
   "source": [
    "row = df.shape[0]"
   ]
  },
  {
   "cell_type": "code",
   "execution_count": 36,
   "id": "ad7bfc19",
   "metadata": {},
   "outputs": [
    {
     "name": "stdout",
     "output_type": "stream",
     "text": [
      "5\n"
     ]
    }
   ],
   "source": [
    "print(row)"
   ]
  },
  {
   "cell_type": "code",
   "execution_count": 38,
   "id": "28556040",
   "metadata": {},
   "outputs": [],
   "source": [
    "column = df.shape[1]"
   ]
  },
  {
   "cell_type": "code",
   "execution_count": 39,
   "id": "69e73a67",
   "metadata": {},
   "outputs": [
    {
     "data": {
      "text/plain": [
       "3"
      ]
     },
     "execution_count": 39,
     "metadata": {},
     "output_type": "execute_result"
    }
   ],
   "source": [
    "column"
   ]
  },
  {
   "cell_type": "markdown",
   "id": "1f27afa6",
   "metadata": {},
   "source": [
    "Kita bisa mengubah `data type` dari sebuah kolom dengan `.astype`."
   ]
  },
  {
   "cell_type": "code",
   "execution_count": 26,
   "id": "74b98c56",
   "metadata": {},
   "outputs": [
    {
     "name": "stdout",
     "output_type": "stream",
     "text": [
      "<class 'pandas.core.frame.DataFrame'>\n",
      "RangeIndex: 5 entries, 0 to 4\n",
      "Data columns (total 3 columns):\n",
      " #   Column       Non-Null Count  Dtype \n",
      "---  ------       --------------  ----- \n",
      " 0   cust_id      5 non-null      object\n",
      " 1   quantity     5 non-null      int64 \n",
      " 2   center_city  5 non-null      object\n",
      "dtypes: int64(1), object(2)\n",
      "memory usage: 248.0+ bytes\n"
     ]
    }
   ],
   "source": [
    "df.info()"
   ]
  },
  {
   "cell_type": "code",
   "execution_count": 27,
   "id": "beadf703",
   "metadata": {},
   "outputs": [],
   "source": [
    "df['quantity'] = df['quantity'].astype(float)"
   ]
  },
  {
   "cell_type": "code",
   "execution_count": 28,
   "id": "6fe4362a",
   "metadata": {},
   "outputs": [
    {
     "data": {
      "text/html": [
       "<div>\n",
       "<style scoped>\n",
       "    .dataframe tbody tr th:only-of-type {\n",
       "        vertical-align: middle;\n",
       "    }\n",
       "\n",
       "    .dataframe tbody tr th {\n",
       "        vertical-align: top;\n",
       "    }\n",
       "\n",
       "    .dataframe thead th {\n",
       "        text-align: right;\n",
       "    }\n",
       "</style>\n",
       "<table border=\"1\" class=\"dataframe\">\n",
       "  <thead>\n",
       "    <tr style=\"text-align: right;\">\n",
       "      <th></th>\n",
       "      <th>cust_id</th>\n",
       "      <th>quantity</th>\n",
       "      <th>center_city</th>\n",
       "    </tr>\n",
       "  </thead>\n",
       "  <tbody>\n",
       "    <tr>\n",
       "      <th>0</th>\n",
       "      <td>A1</td>\n",
       "      <td>10.0</td>\n",
       "      <td>Bandung</td>\n",
       "    </tr>\n",
       "    <tr>\n",
       "      <th>1</th>\n",
       "      <td>A2</td>\n",
       "      <td>15.0</td>\n",
       "      <td>Surabaya</td>\n",
       "    </tr>\n",
       "    <tr>\n",
       "      <th>2</th>\n",
       "      <td>A3</td>\n",
       "      <td>20.0</td>\n",
       "      <td>Bekasi</td>\n",
       "    </tr>\n",
       "    <tr>\n",
       "      <th>3</th>\n",
       "      <td>A4</td>\n",
       "      <td>35.0</td>\n",
       "      <td>Tangerang</td>\n",
       "    </tr>\n",
       "    <tr>\n",
       "      <th>4</th>\n",
       "      <td>A5</td>\n",
       "      <td>4.0</td>\n",
       "      <td>Denpasar</td>\n",
       "    </tr>\n",
       "  </tbody>\n",
       "</table>\n",
       "</div>"
      ],
      "text/plain": [
       "  cust_id  quantity center_city\n",
       "0      A1      10.0     Bandung\n",
       "1      A2      15.0    Surabaya\n",
       "2      A3      20.0      Bekasi\n",
       "3      A4      35.0   Tangerang\n",
       "4      A5       4.0    Denpasar"
      ]
     },
     "execution_count": 28,
     "metadata": {},
     "output_type": "execute_result"
    }
   ],
   "source": [
    "df"
   ]
  },
  {
   "cell_type": "markdown",
   "id": "4783719e",
   "metadata": {},
   "source": [
    "Maka akan terlihat bahwa kolom `quantity` sekarang menjadi dalam bentuk desimal (float)."
   ]
  },
  {
   "cell_type": "markdown",
   "id": "c7dfdfce",
   "metadata": {},
   "source": [
    "#### II.2. Filtering"
   ]
  },
  {
   "cell_type": "markdown",
   "id": "238cd486",
   "metadata": {},
   "source": [
    "Selecting first few rows"
   ]
  },
  {
   "cell_type": "code",
   "execution_count": 47,
   "id": "fe5dcbd2",
   "metadata": {},
   "outputs": [
    {
     "data": {
      "text/html": [
       "<div>\n",
       "<style scoped>\n",
       "    .dataframe tbody tr th:only-of-type {\n",
       "        vertical-align: middle;\n",
       "    }\n",
       "\n",
       "    .dataframe tbody tr th {\n",
       "        vertical-align: top;\n",
       "    }\n",
       "\n",
       "    .dataframe thead th {\n",
       "        text-align: right;\n",
       "    }\n",
       "</style>\n",
       "<table border=\"1\" class=\"dataframe\">\n",
       "  <thead>\n",
       "    <tr style=\"text-align: right;\">\n",
       "      <th></th>\n",
       "      <th>cust_id</th>\n",
       "      <th>quantity</th>\n",
       "      <th>center_city</th>\n",
       "    </tr>\n",
       "  </thead>\n",
       "  <tbody>\n",
       "    <tr>\n",
       "      <th>0</th>\n",
       "      <td>A1</td>\n",
       "      <td>10.0</td>\n",
       "      <td>Bandung</td>\n",
       "    </tr>\n",
       "    <tr>\n",
       "      <th>1</th>\n",
       "      <td>A2</td>\n",
       "      <td>15.0</td>\n",
       "      <td>Surabaya</td>\n",
       "    </tr>\n",
       "  </tbody>\n",
       "</table>\n",
       "</div>"
      ],
      "text/plain": [
       "  cust_id  quantity center_city\n",
       "0      A1      10.0     Bandung\n",
       "1      A2      15.0    Surabaya"
      ]
     },
     "execution_count": 47,
     "metadata": {},
     "output_type": "execute_result"
    }
   ],
   "source": [
    "df.head(2)"
   ]
  },
  {
   "cell_type": "markdown",
   "id": "70799d97",
   "metadata": {},
   "source": [
    "Selecting last rows"
   ]
  },
  {
   "cell_type": "code",
   "execution_count": 48,
   "id": "b946733f",
   "metadata": {},
   "outputs": [
    {
     "data": {
      "text/html": [
       "<div>\n",
       "<style scoped>\n",
       "    .dataframe tbody tr th:only-of-type {\n",
       "        vertical-align: middle;\n",
       "    }\n",
       "\n",
       "    .dataframe tbody tr th {\n",
       "        vertical-align: top;\n",
       "    }\n",
       "\n",
       "    .dataframe thead th {\n",
       "        text-align: right;\n",
       "    }\n",
       "</style>\n",
       "<table border=\"1\" class=\"dataframe\">\n",
       "  <thead>\n",
       "    <tr style=\"text-align: right;\">\n",
       "      <th></th>\n",
       "      <th>cust_id</th>\n",
       "      <th>quantity</th>\n",
       "      <th>center_city</th>\n",
       "    </tr>\n",
       "  </thead>\n",
       "  <tbody>\n",
       "    <tr>\n",
       "      <th>2</th>\n",
       "      <td>A3</td>\n",
       "      <td>20.0</td>\n",
       "      <td>Bekasi</td>\n",
       "    </tr>\n",
       "    <tr>\n",
       "      <th>3</th>\n",
       "      <td>A4</td>\n",
       "      <td>35.0</td>\n",
       "      <td>Tangerang</td>\n",
       "    </tr>\n",
       "    <tr>\n",
       "      <th>4</th>\n",
       "      <td>A5</td>\n",
       "      <td>4.0</td>\n",
       "      <td>Denpasar</td>\n",
       "    </tr>\n",
       "  </tbody>\n",
       "</table>\n",
       "</div>"
      ],
      "text/plain": [
       "  cust_id  quantity center_city\n",
       "2      A3      20.0      Bekasi\n",
       "3      A4      35.0   Tangerang\n",
       "4      A5       4.0    Denpasar"
      ]
     },
     "execution_count": 48,
     "metadata": {},
     "output_type": "execute_result"
    }
   ],
   "source": [
    "df.tail(3)"
   ]
  },
  {
   "cell_type": "markdown",
   "id": "bd68747b",
   "metadata": {},
   "source": [
    "Selecting several columns"
   ]
  },
  {
   "cell_type": "code",
   "execution_count": 52,
   "id": "bca7e28d",
   "metadata": {},
   "outputs": [],
   "source": [
    "df_selected = df[['cust_id', 'quantity']]"
   ]
  },
  {
   "cell_type": "code",
   "execution_count": 53,
   "id": "ae748906",
   "metadata": {},
   "outputs": [
    {
     "data": {
      "text/html": [
       "<div>\n",
       "<style scoped>\n",
       "    .dataframe tbody tr th:only-of-type {\n",
       "        vertical-align: middle;\n",
       "    }\n",
       "\n",
       "    .dataframe tbody tr th {\n",
       "        vertical-align: top;\n",
       "    }\n",
       "\n",
       "    .dataframe thead th {\n",
       "        text-align: right;\n",
       "    }\n",
       "</style>\n",
       "<table border=\"1\" class=\"dataframe\">\n",
       "  <thead>\n",
       "    <tr style=\"text-align: right;\">\n",
       "      <th></th>\n",
       "      <th>cust_id</th>\n",
       "      <th>quantity</th>\n",
       "    </tr>\n",
       "  </thead>\n",
       "  <tbody>\n",
       "    <tr>\n",
       "      <th>0</th>\n",
       "      <td>A1</td>\n",
       "      <td>10.0</td>\n",
       "    </tr>\n",
       "    <tr>\n",
       "      <th>1</th>\n",
       "      <td>A2</td>\n",
       "      <td>15.0</td>\n",
       "    </tr>\n",
       "    <tr>\n",
       "      <th>2</th>\n",
       "      <td>A3</td>\n",
       "      <td>20.0</td>\n",
       "    </tr>\n",
       "    <tr>\n",
       "      <th>3</th>\n",
       "      <td>A4</td>\n",
       "      <td>35.0</td>\n",
       "    </tr>\n",
       "    <tr>\n",
       "      <th>4</th>\n",
       "      <td>A5</td>\n",
       "      <td>4.0</td>\n",
       "    </tr>\n",
       "  </tbody>\n",
       "</table>\n",
       "</div>"
      ],
      "text/plain": [
       "  cust_id  quantity\n",
       "0      A1      10.0\n",
       "1      A2      15.0\n",
       "2      A3      20.0\n",
       "3      A4      35.0\n",
       "4      A5       4.0"
      ]
     },
     "execution_count": 53,
     "metadata": {},
     "output_type": "execute_result"
    }
   ],
   "source": [
    "df_selected"
   ]
  },
  {
   "cell_type": "code",
   "execution_count": 55,
   "id": "cd9d8c35",
   "metadata": {},
   "outputs": [
    {
     "data": {
      "text/html": [
       "<div>\n",
       "<style scoped>\n",
       "    .dataframe tbody tr th:only-of-type {\n",
       "        vertical-align: middle;\n",
       "    }\n",
       "\n",
       "    .dataframe tbody tr th {\n",
       "        vertical-align: top;\n",
       "    }\n",
       "\n",
       "    .dataframe thead th {\n",
       "        text-align: right;\n",
       "    }\n",
       "</style>\n",
       "<table border=\"1\" class=\"dataframe\">\n",
       "  <thead>\n",
       "    <tr style=\"text-align: right;\">\n",
       "      <th></th>\n",
       "      <th>cust_id</th>\n",
       "      <th>quantity</th>\n",
       "    </tr>\n",
       "  </thead>\n",
       "  <tbody>\n",
       "    <tr>\n",
       "      <th>0</th>\n",
       "      <td>A1</td>\n",
       "      <td>10.0</td>\n",
       "    </tr>\n",
       "    <tr>\n",
       "      <th>1</th>\n",
       "      <td>A2</td>\n",
       "      <td>15.0</td>\n",
       "    </tr>\n",
       "    <tr>\n",
       "      <th>2</th>\n",
       "      <td>A3</td>\n",
       "      <td>20.0</td>\n",
       "    </tr>\n",
       "    <tr>\n",
       "      <th>3</th>\n",
       "      <td>A4</td>\n",
       "      <td>35.0</td>\n",
       "    </tr>\n",
       "    <tr>\n",
       "      <th>4</th>\n",
       "      <td>A5</td>\n",
       "      <td>4.0</td>\n",
       "    </tr>\n",
       "  </tbody>\n",
       "</table>\n",
       "</div>"
      ],
      "text/plain": [
       "  cust_id  quantity\n",
       "0      A1      10.0\n",
       "1      A2      15.0\n",
       "2      A3      20.0\n",
       "3      A4      35.0\n",
       "4      A5       4.0"
      ]
     },
     "execution_count": 55,
     "metadata": {},
     "output_type": "execute_result"
    }
   ],
   "source": [
    "## If you don't wish to create a new dataframe to store the selection, you can just\n",
    "df[['cust_id', 'quantity']]"
   ]
  },
  {
   "cell_type": "markdown",
   "id": "b907988c",
   "metadata": {},
   "source": [
    "Filtering rows that has quantity > 10"
   ]
  },
  {
   "cell_type": "code",
   "execution_count": 59,
   "id": "cbb960d5",
   "metadata": {},
   "outputs": [
    {
     "data": {
      "text/html": [
       "<div>\n",
       "<style scoped>\n",
       "    .dataframe tbody tr th:only-of-type {\n",
       "        vertical-align: middle;\n",
       "    }\n",
       "\n",
       "    .dataframe tbody tr th {\n",
       "        vertical-align: top;\n",
       "    }\n",
       "\n",
       "    .dataframe thead th {\n",
       "        text-align: right;\n",
       "    }\n",
       "</style>\n",
       "<table border=\"1\" class=\"dataframe\">\n",
       "  <thead>\n",
       "    <tr style=\"text-align: right;\">\n",
       "      <th></th>\n",
       "      <th>cust_id</th>\n",
       "      <th>quantity</th>\n",
       "      <th>center_city</th>\n",
       "    </tr>\n",
       "  </thead>\n",
       "  <tbody>\n",
       "    <tr>\n",
       "      <th>0</th>\n",
       "      <td>A1</td>\n",
       "      <td>10.0</td>\n",
       "      <td>Bandung</td>\n",
       "    </tr>\n",
       "    <tr>\n",
       "      <th>1</th>\n",
       "      <td>A2</td>\n",
       "      <td>15.0</td>\n",
       "      <td>Surabaya</td>\n",
       "    </tr>\n",
       "    <tr>\n",
       "      <th>2</th>\n",
       "      <td>A3</td>\n",
       "      <td>20.0</td>\n",
       "      <td>Bekasi</td>\n",
       "    </tr>\n",
       "    <tr>\n",
       "      <th>3</th>\n",
       "      <td>A4</td>\n",
       "      <td>35.0</td>\n",
       "      <td>Tangerang</td>\n",
       "    </tr>\n",
       "    <tr>\n",
       "      <th>4</th>\n",
       "      <td>A5</td>\n",
       "      <td>4.0</td>\n",
       "      <td>Denpasar</td>\n",
       "    </tr>\n",
       "  </tbody>\n",
       "</table>\n",
       "</div>"
      ],
      "text/plain": [
       "  cust_id  quantity center_city\n",
       "0      A1      10.0     Bandung\n",
       "1      A2      15.0    Surabaya\n",
       "2      A3      20.0      Bekasi\n",
       "3      A4      35.0   Tangerang\n",
       "4      A5       4.0    Denpasar"
      ]
     },
     "execution_count": 59,
     "metadata": {},
     "output_type": "execute_result"
    }
   ],
   "source": [
    "df"
   ]
  },
  {
   "cell_type": "code",
   "execution_count": 62,
   "id": "5f945b0d",
   "metadata": {},
   "outputs": [
    {
     "data": {
      "text/plain": [
       "0    False\n",
       "1     True\n",
       "2     True\n",
       "3     True\n",
       "4    False\n",
       "Name: quantity, dtype: bool"
      ]
     },
     "execution_count": 62,
     "metadata": {},
     "output_type": "execute_result"
    }
   ],
   "source": [
    "df['quantity']>10"
   ]
  },
  {
   "cell_type": "code",
   "execution_count": 56,
   "id": "4bb76c50",
   "metadata": {},
   "outputs": [
    {
     "data": {
      "text/html": [
       "<div>\n",
       "<style scoped>\n",
       "    .dataframe tbody tr th:only-of-type {\n",
       "        vertical-align: middle;\n",
       "    }\n",
       "\n",
       "    .dataframe tbody tr th {\n",
       "        vertical-align: top;\n",
       "    }\n",
       "\n",
       "    .dataframe thead th {\n",
       "        text-align: right;\n",
       "    }\n",
       "</style>\n",
       "<table border=\"1\" class=\"dataframe\">\n",
       "  <thead>\n",
       "    <tr style=\"text-align: right;\">\n",
       "      <th></th>\n",
       "      <th>cust_id</th>\n",
       "      <th>quantity</th>\n",
       "      <th>center_city</th>\n",
       "    </tr>\n",
       "  </thead>\n",
       "  <tbody>\n",
       "    <tr>\n",
       "      <th>1</th>\n",
       "      <td>A2</td>\n",
       "      <td>15.0</td>\n",
       "      <td>Surabaya</td>\n",
       "    </tr>\n",
       "    <tr>\n",
       "      <th>2</th>\n",
       "      <td>A3</td>\n",
       "      <td>20.0</td>\n",
       "      <td>Bekasi</td>\n",
       "    </tr>\n",
       "    <tr>\n",
       "      <th>3</th>\n",
       "      <td>A4</td>\n",
       "      <td>35.0</td>\n",
       "      <td>Tangerang</td>\n",
       "    </tr>\n",
       "  </tbody>\n",
       "</table>\n",
       "</div>"
      ],
      "text/plain": [
       "  cust_id  quantity center_city\n",
       "1      A2      15.0    Surabaya\n",
       "2      A3      20.0      Bekasi\n",
       "3      A4      35.0   Tangerang"
      ]
     },
     "execution_count": 56,
     "metadata": {},
     "output_type": "execute_result"
    }
   ],
   "source": [
    "df[df['quantity']>10]"
   ]
  },
  {
   "cell_type": "markdown",
   "id": "7310fffe",
   "metadata": {},
   "source": [
    "Filtering rows that has quantity >= 10 and whose center city is in Bandung / Surabaya."
   ]
  },
  {
   "cell_type": "code",
   "execution_count": 84,
   "id": "261f9ea1",
   "metadata": {},
   "outputs": [
    {
     "data": {
      "text/html": [
       "<div>\n",
       "<style scoped>\n",
       "    .dataframe tbody tr th:only-of-type {\n",
       "        vertical-align: middle;\n",
       "    }\n",
       "\n",
       "    .dataframe tbody tr th {\n",
       "        vertical-align: top;\n",
       "    }\n",
       "\n",
       "    .dataframe thead th {\n",
       "        text-align: right;\n",
       "    }\n",
       "</style>\n",
       "<table border=\"1\" class=\"dataframe\">\n",
       "  <thead>\n",
       "    <tr style=\"text-align: right;\">\n",
       "      <th></th>\n",
       "      <th>cust_id</th>\n",
       "      <th>quantity</th>\n",
       "      <th>center_city</th>\n",
       "    </tr>\n",
       "  </thead>\n",
       "  <tbody>\n",
       "    <tr>\n",
       "      <th>0</th>\n",
       "      <td>A1</td>\n",
       "      <td>10.0</td>\n",
       "      <td>Bandung</td>\n",
       "    </tr>\n",
       "    <tr>\n",
       "      <th>1</th>\n",
       "      <td>A2</td>\n",
       "      <td>15.0</td>\n",
       "      <td>Surabaya</td>\n",
       "    </tr>\n",
       "    <tr>\n",
       "      <th>4</th>\n",
       "      <td>A5</td>\n",
       "      <td>4.0</td>\n",
       "      <td>Denpasar</td>\n",
       "    </tr>\n",
       "  </tbody>\n",
       "</table>\n",
       "</div>"
      ],
      "text/plain": [
       "  cust_id  quantity center_city\n",
       "0      A1      10.0     Bandung\n",
       "1      A2      15.0    Surabaya\n",
       "4      A5       4.0    Denpasar"
      ]
     },
     "execution_count": 84,
     "metadata": {},
     "output_type": "execute_result"
    }
   ],
   "source": [
    "rule_pertama = df['quantity'] >= 10\n",
    "rule_kedua = df['center_city'].isin(['Bandung', 'Surabaya'])\n",
    "rule_ketiga = df['quantity'] < 5\n",
    "\n",
    "# (rule pertama dan rule kedua) atau (rule ketiga)\n",
    "\n",
    "df[(rule_pertama & rule_kedua) | rule_ketiga]"
   ]
  },
  {
   "cell_type": "markdown",
   "id": "794a8db5",
   "metadata": {},
   "source": [
    "Selecting all customers who are NOT in Bandung"
   ]
  },
  {
   "cell_type": "code",
   "execution_count": 86,
   "id": "e48ad897",
   "metadata": {},
   "outputs": [
    {
     "data": {
      "text/html": [
       "<div>\n",
       "<style scoped>\n",
       "    .dataframe tbody tr th:only-of-type {\n",
       "        vertical-align: middle;\n",
       "    }\n",
       "\n",
       "    .dataframe tbody tr th {\n",
       "        vertical-align: top;\n",
       "    }\n",
       "\n",
       "    .dataframe thead th {\n",
       "        text-align: right;\n",
       "    }\n",
       "</style>\n",
       "<table border=\"1\" class=\"dataframe\">\n",
       "  <thead>\n",
       "    <tr style=\"text-align: right;\">\n",
       "      <th></th>\n",
       "      <th>cust_id</th>\n",
       "      <th>quantity</th>\n",
       "      <th>center_city</th>\n",
       "    </tr>\n",
       "  </thead>\n",
       "  <tbody>\n",
       "    <tr>\n",
       "      <th>1</th>\n",
       "      <td>A2</td>\n",
       "      <td>15.0</td>\n",
       "      <td>Surabaya</td>\n",
       "    </tr>\n",
       "    <tr>\n",
       "      <th>2</th>\n",
       "      <td>A3</td>\n",
       "      <td>20.0</td>\n",
       "      <td>Bekasi</td>\n",
       "    </tr>\n",
       "    <tr>\n",
       "      <th>3</th>\n",
       "      <td>A4</td>\n",
       "      <td>35.0</td>\n",
       "      <td>Tangerang</td>\n",
       "    </tr>\n",
       "    <tr>\n",
       "      <th>4</th>\n",
       "      <td>A5</td>\n",
       "      <td>4.0</td>\n",
       "      <td>Denpasar</td>\n",
       "    </tr>\n",
       "  </tbody>\n",
       "</table>\n",
       "</div>"
      ],
      "text/plain": [
       "  cust_id  quantity center_city\n",
       "1      A2      15.0    Surabaya\n",
       "2      A3      20.0      Bekasi\n",
       "3      A4      35.0   Tangerang\n",
       "4      A5       4.0    Denpasar"
      ]
     },
     "execution_count": 86,
     "metadata": {},
     "output_type": "execute_result"
    }
   ],
   "source": [
    "df[~df['center_city'].isin(['Bandung'])]"
   ]
  },
  {
   "cell_type": "code",
   "execution_count": 40,
   "id": "8d11f3c0",
   "metadata": {},
   "outputs": [
    {
     "data": {
      "text/html": [
       "<div>\n",
       "<style scoped>\n",
       "    .dataframe tbody tr th:only-of-type {\n",
       "        vertical-align: middle;\n",
       "    }\n",
       "\n",
       "    .dataframe tbody tr th {\n",
       "        vertical-align: top;\n",
       "    }\n",
       "\n",
       "    .dataframe thead th {\n",
       "        text-align: right;\n",
       "    }\n",
       "</style>\n",
       "<table border=\"1\" class=\"dataframe\">\n",
       "  <thead>\n",
       "    <tr style=\"text-align: right;\">\n",
       "      <th></th>\n",
       "      <th>cust_id</th>\n",
       "      <th>quantity</th>\n",
       "      <th>center_city</th>\n",
       "    </tr>\n",
       "  </thead>\n",
       "  <tbody>\n",
       "    <tr>\n",
       "      <th>0</th>\n",
       "      <td>A1</td>\n",
       "      <td>10</td>\n",
       "      <td>Bandung</td>\n",
       "    </tr>\n",
       "    <tr>\n",
       "      <th>1</th>\n",
       "      <td>A2</td>\n",
       "      <td>15</td>\n",
       "      <td>Surabaya</td>\n",
       "    </tr>\n",
       "  </tbody>\n",
       "</table>\n",
       "</div>"
      ],
      "text/plain": [
       "  cust_id  quantity center_city\n",
       "0      A1        10     Bandung\n",
       "1      A2        15    Surabaya"
      ]
     },
     "execution_count": 40,
     "metadata": {},
     "output_type": "execute_result"
    }
   ],
   "source": [
    "df[(df['quantity'] >= 10) & (df['center_city'].isin(['Bandung', 'Surabaya']))]"
   ]
  },
  {
   "cell_type": "markdown",
   "id": "611367f2",
   "metadata": {},
   "source": [
    "Filtering with OR conditionals"
   ]
  },
  {
   "cell_type": "code",
   "execution_count": 63,
   "id": "90b9d295",
   "metadata": {},
   "outputs": [
    {
     "data": {
      "text/html": [
       "<div>\n",
       "<style scoped>\n",
       "    .dataframe tbody tr th:only-of-type {\n",
       "        vertical-align: middle;\n",
       "    }\n",
       "\n",
       "    .dataframe tbody tr th {\n",
       "        vertical-align: top;\n",
       "    }\n",
       "\n",
       "    .dataframe thead th {\n",
       "        text-align: right;\n",
       "    }\n",
       "</style>\n",
       "<table border=\"1\" class=\"dataframe\">\n",
       "  <thead>\n",
       "    <tr style=\"text-align: right;\">\n",
       "      <th></th>\n",
       "      <th>cust_id</th>\n",
       "      <th>quantity</th>\n",
       "      <th>center_city</th>\n",
       "    </tr>\n",
       "  </thead>\n",
       "  <tbody>\n",
       "    <tr>\n",
       "      <th>0</th>\n",
       "      <td>A1</td>\n",
       "      <td>10</td>\n",
       "      <td>Bandung</td>\n",
       "    </tr>\n",
       "    <tr>\n",
       "      <th>1</th>\n",
       "      <td>A2</td>\n",
       "      <td>15</td>\n",
       "      <td>Surabaya</td>\n",
       "    </tr>\n",
       "    <tr>\n",
       "      <th>2</th>\n",
       "      <td>A3</td>\n",
       "      <td>20</td>\n",
       "      <td>Bekasi</td>\n",
       "    </tr>\n",
       "    <tr>\n",
       "      <th>3</th>\n",
       "      <td>A4</td>\n",
       "      <td>35</td>\n",
       "      <td>Tangerang</td>\n",
       "    </tr>\n",
       "    <tr>\n",
       "      <th>4</th>\n",
       "      <td>A5</td>\n",
       "      <td>4</td>\n",
       "      <td>Denpasar</td>\n",
       "    </tr>\n",
       "  </tbody>\n",
       "</table>\n",
       "</div>"
      ],
      "text/plain": [
       "  cust_id  quantity center_city\n",
       "0      A1        10     Bandung\n",
       "1      A2        15    Surabaya\n",
       "2      A3        20      Bekasi\n",
       "3      A4        35   Tangerang\n",
       "4      A5         4    Denpasar"
      ]
     },
     "execution_count": 63,
     "metadata": {},
     "output_type": "execute_result"
    }
   ],
   "source": [
    "df[(df[\"quantity\"]>15) | (df[\"center_city\"]!= \"Tangerang\")]"
   ]
  },
  {
   "cell_type": "markdown",
   "id": "5a7f96e6",
   "metadata": {},
   "source": [
    "Saving a filtered dataframe"
   ]
  },
  {
   "cell_type": "code",
   "execution_count": 88,
   "id": "8d7b446e",
   "metadata": {},
   "outputs": [],
   "source": [
    "df_more_than_10 = df[df['quantity']>10]"
   ]
  },
  {
   "cell_type": "code",
   "execution_count": 89,
   "id": "0b5c43ca",
   "metadata": {},
   "outputs": [
    {
     "data": {
      "text/html": [
       "<div>\n",
       "<style scoped>\n",
       "    .dataframe tbody tr th:only-of-type {\n",
       "        vertical-align: middle;\n",
       "    }\n",
       "\n",
       "    .dataframe tbody tr th {\n",
       "        vertical-align: top;\n",
       "    }\n",
       "\n",
       "    .dataframe thead th {\n",
       "        text-align: right;\n",
       "    }\n",
       "</style>\n",
       "<table border=\"1\" class=\"dataframe\">\n",
       "  <thead>\n",
       "    <tr style=\"text-align: right;\">\n",
       "      <th></th>\n",
       "      <th>cust_id</th>\n",
       "      <th>quantity</th>\n",
       "      <th>center_city</th>\n",
       "    </tr>\n",
       "  </thead>\n",
       "  <tbody>\n",
       "    <tr>\n",
       "      <th>1</th>\n",
       "      <td>A2</td>\n",
       "      <td>15.0</td>\n",
       "      <td>Surabaya</td>\n",
       "    </tr>\n",
       "    <tr>\n",
       "      <th>2</th>\n",
       "      <td>A3</td>\n",
       "      <td>20.0</td>\n",
       "      <td>Bekasi</td>\n",
       "    </tr>\n",
       "    <tr>\n",
       "      <th>3</th>\n",
       "      <td>A4</td>\n",
       "      <td>35.0</td>\n",
       "      <td>Tangerang</td>\n",
       "    </tr>\n",
       "  </tbody>\n",
       "</table>\n",
       "</div>"
      ],
      "text/plain": [
       "  cust_id  quantity center_city\n",
       "1      A2      15.0    Surabaya\n",
       "2      A3      20.0      Bekasi\n",
       "3      A4      35.0   Tangerang"
      ]
     },
     "execution_count": 89,
     "metadata": {},
     "output_type": "execute_result"
    }
   ],
   "source": [
    "df_more_than_10"
   ]
  },
  {
   "cell_type": "markdown",
   "id": "2ad71716",
   "metadata": {},
   "source": [
    "Restore the index"
   ]
  },
  {
   "cell_type": "code",
   "execution_count": 90,
   "id": "ea3ea343",
   "metadata": {},
   "outputs": [],
   "source": [
    "df_more_than_10 = df[df['quantity']>10].reset_index(drop = True)"
   ]
  },
  {
   "cell_type": "code",
   "execution_count": 91,
   "id": "3e2d7b53",
   "metadata": {},
   "outputs": [
    {
     "data": {
      "text/html": [
       "<div>\n",
       "<style scoped>\n",
       "    .dataframe tbody tr th:only-of-type {\n",
       "        vertical-align: middle;\n",
       "    }\n",
       "\n",
       "    .dataframe tbody tr th {\n",
       "        vertical-align: top;\n",
       "    }\n",
       "\n",
       "    .dataframe thead th {\n",
       "        text-align: right;\n",
       "    }\n",
       "</style>\n",
       "<table border=\"1\" class=\"dataframe\">\n",
       "  <thead>\n",
       "    <tr style=\"text-align: right;\">\n",
       "      <th></th>\n",
       "      <th>cust_id</th>\n",
       "      <th>quantity</th>\n",
       "      <th>center_city</th>\n",
       "    </tr>\n",
       "  </thead>\n",
       "  <tbody>\n",
       "    <tr>\n",
       "      <th>0</th>\n",
       "      <td>A2</td>\n",
       "      <td>15.0</td>\n",
       "      <td>Surabaya</td>\n",
       "    </tr>\n",
       "    <tr>\n",
       "      <th>1</th>\n",
       "      <td>A3</td>\n",
       "      <td>20.0</td>\n",
       "      <td>Bekasi</td>\n",
       "    </tr>\n",
       "    <tr>\n",
       "      <th>2</th>\n",
       "      <td>A4</td>\n",
       "      <td>35.0</td>\n",
       "      <td>Tangerang</td>\n",
       "    </tr>\n",
       "  </tbody>\n",
       "</table>\n",
       "</div>"
      ],
      "text/plain": [
       "  cust_id  quantity center_city\n",
       "0      A2      15.0    Surabaya\n",
       "1      A3      20.0      Bekasi\n",
       "2      A4      35.0   Tangerang"
      ]
     },
     "execution_count": 91,
     "metadata": {},
     "output_type": "execute_result"
    }
   ],
   "source": [
    "df_more_than_10"
   ]
  },
  {
   "cell_type": "markdown",
   "id": "91115536",
   "metadata": {},
   "source": [
    "Resample random rows >> run the cell below several times and you'll get different results."
   ]
  },
  {
   "cell_type": "code",
   "execution_count": 118,
   "id": "219ccb4e",
   "metadata": {},
   "outputs": [
    {
     "data": {
      "text/html": [
       "<div>\n",
       "<style scoped>\n",
       "    .dataframe tbody tr th:only-of-type {\n",
       "        vertical-align: middle;\n",
       "    }\n",
       "\n",
       "    .dataframe tbody tr th {\n",
       "        vertical-align: top;\n",
       "    }\n",
       "\n",
       "    .dataframe thead th {\n",
       "        text-align: right;\n",
       "    }\n",
       "</style>\n",
       "<table border=\"1\" class=\"dataframe\">\n",
       "  <thead>\n",
       "    <tr style=\"text-align: right;\">\n",
       "      <th></th>\n",
       "      <th>cust_id</th>\n",
       "      <th>quantity</th>\n",
       "      <th>center_city</th>\n",
       "    </tr>\n",
       "  </thead>\n",
       "  <tbody>\n",
       "    <tr>\n",
       "      <th>1</th>\n",
       "      <td>A2</td>\n",
       "      <td>15.0</td>\n",
       "      <td>Surabaya</td>\n",
       "    </tr>\n",
       "    <tr>\n",
       "      <th>4</th>\n",
       "      <td>A5</td>\n",
       "      <td>4.0</td>\n",
       "      <td>Denpasar</td>\n",
       "    </tr>\n",
       "    <tr>\n",
       "      <th>2</th>\n",
       "      <td>A3</td>\n",
       "      <td>20.0</td>\n",
       "      <td>Bekasi</td>\n",
       "    </tr>\n",
       "  </tbody>\n",
       "</table>\n",
       "</div>"
      ],
      "text/plain": [
       "  cust_id  quantity center_city\n",
       "1      A2      15.0    Surabaya\n",
       "4      A5       4.0    Denpasar\n",
       "2      A3      20.0      Bekasi"
      ]
     },
     "execution_count": 118,
     "metadata": {},
     "output_type": "execute_result"
    }
   ],
   "source": [
    "df.sample(3)"
   ]
  },
  {
   "cell_type": "markdown",
   "id": "973a87b6",
   "metadata": {},
   "source": [
    "Selecting specific cell in the dataframe."
   ]
  },
  {
   "cell_type": "code",
   "execution_count": 53,
   "id": "afe8d2a3",
   "metadata": {},
   "outputs": [
    {
     "data": {
      "text/html": [
       "<div>\n",
       "<style scoped>\n",
       "    .dataframe tbody tr th:only-of-type {\n",
       "        vertical-align: middle;\n",
       "    }\n",
       "\n",
       "    .dataframe tbody tr th {\n",
       "        vertical-align: top;\n",
       "    }\n",
       "\n",
       "    .dataframe thead th {\n",
       "        text-align: right;\n",
       "    }\n",
       "</style>\n",
       "<table border=\"1\" class=\"dataframe\">\n",
       "  <thead>\n",
       "    <tr style=\"text-align: right;\">\n",
       "      <th></th>\n",
       "      <th>cust_id</th>\n",
       "      <th>quantity</th>\n",
       "      <th>center_city</th>\n",
       "    </tr>\n",
       "  </thead>\n",
       "  <tbody>\n",
       "    <tr>\n",
       "      <th>0</th>\n",
       "      <td>A1</td>\n",
       "      <td>10</td>\n",
       "      <td>Bandung</td>\n",
       "    </tr>\n",
       "    <tr>\n",
       "      <th>1</th>\n",
       "      <td>A2</td>\n",
       "      <td>15</td>\n",
       "      <td>Surabaya</td>\n",
       "    </tr>\n",
       "    <tr>\n",
       "      <th>2</th>\n",
       "      <td>A3</td>\n",
       "      <td>20</td>\n",
       "      <td>Bekasi</td>\n",
       "    </tr>\n",
       "    <tr>\n",
       "      <th>3</th>\n",
       "      <td>A4</td>\n",
       "      <td>35</td>\n",
       "      <td>Tangerang</td>\n",
       "    </tr>\n",
       "    <tr>\n",
       "      <th>4</th>\n",
       "      <td>A5</td>\n",
       "      <td>4</td>\n",
       "      <td>Denpasar</td>\n",
       "    </tr>\n",
       "  </tbody>\n",
       "</table>\n",
       "</div>"
      ],
      "text/plain": [
       "  cust_id  quantity center_city\n",
       "0      A1        10     Bandung\n",
       "1      A2        15    Surabaya\n",
       "2      A3        20      Bekasi\n",
       "3      A4        35   Tangerang\n",
       "4      A5         4    Denpasar"
      ]
     },
     "execution_count": 53,
     "metadata": {},
     "output_type": "execute_result"
    }
   ],
   "source": [
    "df"
   ]
  },
  {
   "cell_type": "code",
   "execution_count": 119,
   "id": "b3232fab",
   "metadata": {},
   "outputs": [
    {
     "data": {
      "text/plain": [
       "20.0"
      ]
     },
     "execution_count": 119,
     "metadata": {},
     "output_type": "execute_result"
    }
   ],
   "source": [
    "### the quantity value of the 2nd index row\n",
    "df.loc[2, 'quantity']"
   ]
  },
  {
   "cell_type": "code",
   "execution_count": 120,
   "id": "165f0500",
   "metadata": {},
   "outputs": [
    {
     "data": {
      "text/plain": [
       "'Tangerang'"
      ]
     },
     "execution_count": 120,
     "metadata": {},
     "output_type": "execute_result"
    }
   ],
   "source": [
    "### the cell value of row index 3, and column index 2\n",
    "df.iloc[3,2]"
   ]
  },
  {
   "cell_type": "markdown",
   "id": "8fbaab51",
   "metadata": {},
   "source": [
    "Selecting a range of cells"
   ]
  },
  {
   "cell_type": "code",
   "execution_count": 126,
   "id": "8b34bd30",
   "metadata": {},
   "outputs": [
    {
     "data": {
      "text/html": [
       "<div>\n",
       "<style scoped>\n",
       "    .dataframe tbody tr th:only-of-type {\n",
       "        vertical-align: middle;\n",
       "    }\n",
       "\n",
       "    .dataframe tbody tr th {\n",
       "        vertical-align: top;\n",
       "    }\n",
       "\n",
       "    .dataframe thead th {\n",
       "        text-align: right;\n",
       "    }\n",
       "</style>\n",
       "<table border=\"1\" class=\"dataframe\">\n",
       "  <thead>\n",
       "    <tr style=\"text-align: right;\">\n",
       "      <th></th>\n",
       "      <th>quantity</th>\n",
       "      <th>center_city</th>\n",
       "    </tr>\n",
       "  </thead>\n",
       "  <tbody>\n",
       "    <tr>\n",
       "      <th>0</th>\n",
       "      <td>10.0</td>\n",
       "      <td>Bandung</td>\n",
       "    </tr>\n",
       "    <tr>\n",
       "      <th>1</th>\n",
       "      <td>15.0</td>\n",
       "      <td>Surabaya</td>\n",
       "    </tr>\n",
       "  </tbody>\n",
       "</table>\n",
       "</div>"
      ],
      "text/plain": [
       "   quantity center_city\n",
       "0      10.0     Bandung\n",
       "1      15.0    Surabaya"
      ]
     },
     "execution_count": 126,
     "metadata": {},
     "output_type": "execute_result"
    }
   ],
   "source": [
    "df.iloc[0:2,1:3]\n",
    "\n",
    "## dari row 0 sampai sebelum row index 2\n",
    "## dari column 1 sampai sebelum column index 3"
   ]
  },
  {
   "cell_type": "code",
   "execution_count": 127,
   "id": "31d4a308",
   "metadata": {},
   "outputs": [
    {
     "data": {
      "text/html": [
       "<div>\n",
       "<style scoped>\n",
       "    .dataframe tbody tr th:only-of-type {\n",
       "        vertical-align: middle;\n",
       "    }\n",
       "\n",
       "    .dataframe tbody tr th {\n",
       "        vertical-align: top;\n",
       "    }\n",
       "\n",
       "    .dataframe thead th {\n",
       "        text-align: right;\n",
       "    }\n",
       "</style>\n",
       "<table border=\"1\" class=\"dataframe\">\n",
       "  <thead>\n",
       "    <tr style=\"text-align: right;\">\n",
       "      <th></th>\n",
       "      <th>cust_id</th>\n",
       "      <th>quantity</th>\n",
       "      <th>center_city</th>\n",
       "    </tr>\n",
       "  </thead>\n",
       "  <tbody>\n",
       "    <tr>\n",
       "      <th>0</th>\n",
       "      <td>A1</td>\n",
       "      <td>10.0</td>\n",
       "      <td>Bandung</td>\n",
       "    </tr>\n",
       "    <tr>\n",
       "      <th>1</th>\n",
       "      <td>A2</td>\n",
       "      <td>15.0</td>\n",
       "      <td>Surabaya</td>\n",
       "    </tr>\n",
       "  </tbody>\n",
       "</table>\n",
       "</div>"
      ],
      "text/plain": [
       "  cust_id  quantity center_city\n",
       "0      A1      10.0     Bandung\n",
       "1      A2      15.0    Surabaya"
      ]
     },
     "execution_count": 127,
     "metadata": {},
     "output_type": "execute_result"
    }
   ],
   "source": [
    "df.iloc[0:2,0:3]"
   ]
  },
  {
   "cell_type": "code",
   "execution_count": 124,
   "id": "e2399ab9",
   "metadata": {},
   "outputs": [],
   "source": [
    "a = [0,1,2,3,4,5,6,7,8]"
   ]
  },
  {
   "cell_type": "code",
   "execution_count": 125,
   "id": "c6d16644",
   "metadata": {},
   "outputs": [
    {
     "data": {
      "text/plain": [
       "[0, 1, 2, 3, 4]"
      ]
     },
     "execution_count": 125,
     "metadata": {},
     "output_type": "execute_result"
    }
   ],
   "source": [
    "a[0:5]"
   ]
  },
  {
   "cell_type": "markdown",
   "id": "29eb867a",
   "metadata": {},
   "source": [
    "#### Materi Tambahan: Sorting Values"
   ]
  },
  {
   "cell_type": "code",
   "execution_count": 132,
   "id": "b2e5c6e9",
   "metadata": {},
   "outputs": [
    {
     "data": {
      "text/html": [
       "<div>\n",
       "<style scoped>\n",
       "    .dataframe tbody tr th:only-of-type {\n",
       "        vertical-align: middle;\n",
       "    }\n",
       "\n",
       "    .dataframe tbody tr th {\n",
       "        vertical-align: top;\n",
       "    }\n",
       "\n",
       "    .dataframe thead th {\n",
       "        text-align: right;\n",
       "    }\n",
       "</style>\n",
       "<table border=\"1\" class=\"dataframe\">\n",
       "  <thead>\n",
       "    <tr style=\"text-align: right;\">\n",
       "      <th></th>\n",
       "      <th>cust_id</th>\n",
       "      <th>quantity</th>\n",
       "      <th>center_city</th>\n",
       "    </tr>\n",
       "  </thead>\n",
       "  <tbody>\n",
       "    <tr>\n",
       "      <th>3</th>\n",
       "      <td>A4</td>\n",
       "      <td>35.0</td>\n",
       "      <td>Tangerang</td>\n",
       "    </tr>\n",
       "    <tr>\n",
       "      <th>2</th>\n",
       "      <td>A3</td>\n",
       "      <td>20.0</td>\n",
       "      <td>Bekasi</td>\n",
       "    </tr>\n",
       "    <tr>\n",
       "      <th>1</th>\n",
       "      <td>A2</td>\n",
       "      <td>15.0</td>\n",
       "      <td>Surabaya</td>\n",
       "    </tr>\n",
       "    <tr>\n",
       "      <th>0</th>\n",
       "      <td>A1</td>\n",
       "      <td>10.0</td>\n",
       "      <td>Bandung</td>\n",
       "    </tr>\n",
       "    <tr>\n",
       "      <th>4</th>\n",
       "      <td>A5</td>\n",
       "      <td>4.0</td>\n",
       "      <td>Denpasar</td>\n",
       "    </tr>\n",
       "  </tbody>\n",
       "</table>\n",
       "</div>"
      ],
      "text/plain": [
       "  cust_id  quantity center_city\n",
       "3      A4      35.0   Tangerang\n",
       "2      A3      20.0      Bekasi\n",
       "1      A2      15.0    Surabaya\n",
       "0      A1      10.0     Bandung\n",
       "4      A5       4.0    Denpasar"
      ]
     },
     "execution_count": 132,
     "metadata": {},
     "output_type": "execute_result"
    }
   ],
   "source": [
    "df.sort_values(['quantity'], ascending = False)"
   ]
  },
  {
   "cell_type": "code",
   "execution_count": 135,
   "id": "c1dae7d8",
   "metadata": {},
   "outputs": [
    {
     "data": {
      "text/html": [
       "<div>\n",
       "<style scoped>\n",
       "    .dataframe tbody tr th:only-of-type {\n",
       "        vertical-align: middle;\n",
       "    }\n",
       "\n",
       "    .dataframe tbody tr th {\n",
       "        vertical-align: top;\n",
       "    }\n",
       "\n",
       "    .dataframe thead th {\n",
       "        text-align: right;\n",
       "    }\n",
       "</style>\n",
       "<table border=\"1\" class=\"dataframe\">\n",
       "  <thead>\n",
       "    <tr style=\"text-align: right;\">\n",
       "      <th></th>\n",
       "      <th>quantity</th>\n",
       "      <th>center_city</th>\n",
       "    </tr>\n",
       "  </thead>\n",
       "  <tbody>\n",
       "    <tr>\n",
       "      <th>0</th>\n",
       "      <td>20</td>\n",
       "      <td>Bandung</td>\n",
       "    </tr>\n",
       "    <tr>\n",
       "      <th>1</th>\n",
       "      <td>10</td>\n",
       "      <td>Bandung</td>\n",
       "    </tr>\n",
       "    <tr>\n",
       "      <th>2</th>\n",
       "      <td>30</td>\n",
       "      <td>Bandung</td>\n",
       "    </tr>\n",
       "    <tr>\n",
       "      <th>3</th>\n",
       "      <td>30</td>\n",
       "      <td>Surabaya</td>\n",
       "    </tr>\n",
       "    <tr>\n",
       "      <th>4</th>\n",
       "      <td>25</td>\n",
       "      <td>Surabaya</td>\n",
       "    </tr>\n",
       "  </tbody>\n",
       "</table>\n",
       "</div>"
      ],
      "text/plain": [
       "   quantity center_city\n",
       "0        20     Bandung\n",
       "1        10     Bandung\n",
       "2        30     Bandung\n",
       "3        30    Surabaya\n",
       "4        25    Surabaya"
      ]
     },
     "execution_count": 135,
     "metadata": {},
     "output_type": "execute_result"
    }
   ],
   "source": [
    "df_3 = pd.DataFrame({\n",
    "    'quantity':[20,10,30,30,25],\n",
    "    'center_city':['Bandung', 'Bandung', 'Bandung', 'Surabaya', 'Surabaya']\n",
    "})\n",
    "\n",
    "df_3"
   ]
  },
  {
   "cell_type": "code",
   "execution_count": 136,
   "id": "d003ed84",
   "metadata": {},
   "outputs": [
    {
     "data": {
      "text/html": [
       "<div>\n",
       "<style scoped>\n",
       "    .dataframe tbody tr th:only-of-type {\n",
       "        vertical-align: middle;\n",
       "    }\n",
       "\n",
       "    .dataframe tbody tr th {\n",
       "        vertical-align: top;\n",
       "    }\n",
       "\n",
       "    .dataframe thead th {\n",
       "        text-align: right;\n",
       "    }\n",
       "</style>\n",
       "<table border=\"1\" class=\"dataframe\">\n",
       "  <thead>\n",
       "    <tr style=\"text-align: right;\">\n",
       "      <th></th>\n",
       "      <th>quantity</th>\n",
       "      <th>center_city</th>\n",
       "    </tr>\n",
       "  </thead>\n",
       "  <tbody>\n",
       "    <tr>\n",
       "      <th>2</th>\n",
       "      <td>30</td>\n",
       "      <td>Bandung</td>\n",
       "    </tr>\n",
       "    <tr>\n",
       "      <th>3</th>\n",
       "      <td>30</td>\n",
       "      <td>Surabaya</td>\n",
       "    </tr>\n",
       "    <tr>\n",
       "      <th>4</th>\n",
       "      <td>25</td>\n",
       "      <td>Surabaya</td>\n",
       "    </tr>\n",
       "    <tr>\n",
       "      <th>0</th>\n",
       "      <td>20</td>\n",
       "      <td>Bandung</td>\n",
       "    </tr>\n",
       "    <tr>\n",
       "      <th>1</th>\n",
       "      <td>10</td>\n",
       "      <td>Bandung</td>\n",
       "    </tr>\n",
       "  </tbody>\n",
       "</table>\n",
       "</div>"
      ],
      "text/plain": [
       "   quantity center_city\n",
       "2        30     Bandung\n",
       "3        30    Surabaya\n",
       "4        25    Surabaya\n",
       "0        20     Bandung\n",
       "1        10     Bandung"
      ]
     },
     "execution_count": 136,
     "metadata": {},
     "output_type": "execute_result"
    }
   ],
   "source": [
    "df_3.sort_values(['quantity', 'center_city'], ascending = [False, True])"
   ]
  },
  {
   "cell_type": "markdown",
   "id": "bd6b71fe",
   "metadata": {},
   "source": [
    "#### II.3. Reorder Columns"
   ]
  },
  {
   "cell_type": "code",
   "execution_count": 137,
   "id": "c1d3e319",
   "metadata": {},
   "outputs": [
    {
     "data": {
      "text/html": [
       "<div>\n",
       "<style scoped>\n",
       "    .dataframe tbody tr th:only-of-type {\n",
       "        vertical-align: middle;\n",
       "    }\n",
       "\n",
       "    .dataframe tbody tr th {\n",
       "        vertical-align: top;\n",
       "    }\n",
       "\n",
       "    .dataframe thead th {\n",
       "        text-align: right;\n",
       "    }\n",
       "</style>\n",
       "<table border=\"1\" class=\"dataframe\">\n",
       "  <thead>\n",
       "    <tr style=\"text-align: right;\">\n",
       "      <th></th>\n",
       "      <th>cust_id</th>\n",
       "      <th>quantity</th>\n",
       "      <th>center_city</th>\n",
       "    </tr>\n",
       "  </thead>\n",
       "  <tbody>\n",
       "    <tr>\n",
       "      <th>0</th>\n",
       "      <td>A1</td>\n",
       "      <td>10.0</td>\n",
       "      <td>Bandung</td>\n",
       "    </tr>\n",
       "    <tr>\n",
       "      <th>1</th>\n",
       "      <td>A2</td>\n",
       "      <td>15.0</td>\n",
       "      <td>Surabaya</td>\n",
       "    </tr>\n",
       "    <tr>\n",
       "      <th>2</th>\n",
       "      <td>A3</td>\n",
       "      <td>20.0</td>\n",
       "      <td>Bekasi</td>\n",
       "    </tr>\n",
       "    <tr>\n",
       "      <th>3</th>\n",
       "      <td>A4</td>\n",
       "      <td>35.0</td>\n",
       "      <td>Tangerang</td>\n",
       "    </tr>\n",
       "    <tr>\n",
       "      <th>4</th>\n",
       "      <td>A5</td>\n",
       "      <td>4.0</td>\n",
       "      <td>Denpasar</td>\n",
       "    </tr>\n",
       "  </tbody>\n",
       "</table>\n",
       "</div>"
      ],
      "text/plain": [
       "  cust_id  quantity center_city\n",
       "0      A1      10.0     Bandung\n",
       "1      A2      15.0    Surabaya\n",
       "2      A3      20.0      Bekasi\n",
       "3      A4      35.0   Tangerang\n",
       "4      A5       4.0    Denpasar"
      ]
     },
     "execution_count": 137,
     "metadata": {},
     "output_type": "execute_result"
    }
   ],
   "source": [
    "df"
   ]
  },
  {
   "cell_type": "code",
   "execution_count": 138,
   "id": "fd986f30",
   "metadata": {},
   "outputs": [],
   "source": [
    "df_reorder = df[['quantity', 'center_city', 'cust_id']]"
   ]
  },
  {
   "cell_type": "code",
   "execution_count": 139,
   "id": "a3b0b40d",
   "metadata": {},
   "outputs": [
    {
     "data": {
      "text/html": [
       "<div>\n",
       "<style scoped>\n",
       "    .dataframe tbody tr th:only-of-type {\n",
       "        vertical-align: middle;\n",
       "    }\n",
       "\n",
       "    .dataframe tbody tr th {\n",
       "        vertical-align: top;\n",
       "    }\n",
       "\n",
       "    .dataframe thead th {\n",
       "        text-align: right;\n",
       "    }\n",
       "</style>\n",
       "<table border=\"1\" class=\"dataframe\">\n",
       "  <thead>\n",
       "    <tr style=\"text-align: right;\">\n",
       "      <th></th>\n",
       "      <th>quantity</th>\n",
       "      <th>center_city</th>\n",
       "      <th>cust_id</th>\n",
       "    </tr>\n",
       "  </thead>\n",
       "  <tbody>\n",
       "    <tr>\n",
       "      <th>0</th>\n",
       "      <td>10.0</td>\n",
       "      <td>Bandung</td>\n",
       "      <td>A1</td>\n",
       "    </tr>\n",
       "    <tr>\n",
       "      <th>1</th>\n",
       "      <td>15.0</td>\n",
       "      <td>Surabaya</td>\n",
       "      <td>A2</td>\n",
       "    </tr>\n",
       "    <tr>\n",
       "      <th>2</th>\n",
       "      <td>20.0</td>\n",
       "      <td>Bekasi</td>\n",
       "      <td>A3</td>\n",
       "    </tr>\n",
       "    <tr>\n",
       "      <th>3</th>\n",
       "      <td>35.0</td>\n",
       "      <td>Tangerang</td>\n",
       "      <td>A4</td>\n",
       "    </tr>\n",
       "    <tr>\n",
       "      <th>4</th>\n",
       "      <td>4.0</td>\n",
       "      <td>Denpasar</td>\n",
       "      <td>A5</td>\n",
       "    </tr>\n",
       "  </tbody>\n",
       "</table>\n",
       "</div>"
      ],
      "text/plain": [
       "   quantity center_city cust_id\n",
       "0      10.0     Bandung      A1\n",
       "1      15.0    Surabaya      A2\n",
       "2      20.0      Bekasi      A3\n",
       "3      35.0   Tangerang      A4\n",
       "4       4.0    Denpasar      A5"
      ]
     },
     "execution_count": 139,
     "metadata": {},
     "output_type": "execute_result"
    }
   ],
   "source": [
    "df_reorder"
   ]
  },
  {
   "cell_type": "markdown",
   "id": "f0d6de6f",
   "metadata": {},
   "source": [
    "### III. Group-By Data\n",
    "\n",
    "This topic will further be discussed on Day 14."
   ]
  },
  {
   "cell_type": "code",
   "execution_count": 140,
   "id": "9807bbf1",
   "metadata": {},
   "outputs": [],
   "source": [
    "iris = pd.read_csv(\"https://gist.githubusercontent.com/curran/a08a1080b88344b0c8a7/raw/639388c2cbc2120a14dcf466e85730eb8be498bb/iris.csv\")"
   ]
  },
  {
   "cell_type": "code",
   "execution_count": 141,
   "id": "f34adf76",
   "metadata": {},
   "outputs": [
    {
     "data": {
      "text/html": [
       "<div>\n",
       "<style scoped>\n",
       "    .dataframe tbody tr th:only-of-type {\n",
       "        vertical-align: middle;\n",
       "    }\n",
       "\n",
       "    .dataframe tbody tr th {\n",
       "        vertical-align: top;\n",
       "    }\n",
       "\n",
       "    .dataframe thead th {\n",
       "        text-align: right;\n",
       "    }\n",
       "</style>\n",
       "<table border=\"1\" class=\"dataframe\">\n",
       "  <thead>\n",
       "    <tr style=\"text-align: right;\">\n",
       "      <th></th>\n",
       "      <th>sepal_length</th>\n",
       "      <th>sepal_width</th>\n",
       "      <th>petal_length</th>\n",
       "      <th>petal_width</th>\n",
       "      <th>species</th>\n",
       "    </tr>\n",
       "  </thead>\n",
       "  <tbody>\n",
       "    <tr>\n",
       "      <th>0</th>\n",
       "      <td>5.1</td>\n",
       "      <td>3.5</td>\n",
       "      <td>1.4</td>\n",
       "      <td>0.2</td>\n",
       "      <td>setosa</td>\n",
       "    </tr>\n",
       "    <tr>\n",
       "      <th>1</th>\n",
       "      <td>4.9</td>\n",
       "      <td>3.0</td>\n",
       "      <td>1.4</td>\n",
       "      <td>0.2</td>\n",
       "      <td>setosa</td>\n",
       "    </tr>\n",
       "    <tr>\n",
       "      <th>2</th>\n",
       "      <td>4.7</td>\n",
       "      <td>3.2</td>\n",
       "      <td>1.3</td>\n",
       "      <td>0.2</td>\n",
       "      <td>setosa</td>\n",
       "    </tr>\n",
       "    <tr>\n",
       "      <th>3</th>\n",
       "      <td>4.6</td>\n",
       "      <td>3.1</td>\n",
       "      <td>1.5</td>\n",
       "      <td>0.2</td>\n",
       "      <td>setosa</td>\n",
       "    </tr>\n",
       "    <tr>\n",
       "      <th>4</th>\n",
       "      <td>5.0</td>\n",
       "      <td>3.6</td>\n",
       "      <td>1.4</td>\n",
       "      <td>0.2</td>\n",
       "      <td>setosa</td>\n",
       "    </tr>\n",
       "    <tr>\n",
       "      <th>...</th>\n",
       "      <td>...</td>\n",
       "      <td>...</td>\n",
       "      <td>...</td>\n",
       "      <td>...</td>\n",
       "      <td>...</td>\n",
       "    </tr>\n",
       "    <tr>\n",
       "      <th>145</th>\n",
       "      <td>6.7</td>\n",
       "      <td>3.0</td>\n",
       "      <td>5.2</td>\n",
       "      <td>2.3</td>\n",
       "      <td>virginica</td>\n",
       "    </tr>\n",
       "    <tr>\n",
       "      <th>146</th>\n",
       "      <td>6.3</td>\n",
       "      <td>2.5</td>\n",
       "      <td>5.0</td>\n",
       "      <td>1.9</td>\n",
       "      <td>virginica</td>\n",
       "    </tr>\n",
       "    <tr>\n",
       "      <th>147</th>\n",
       "      <td>6.5</td>\n",
       "      <td>3.0</td>\n",
       "      <td>5.2</td>\n",
       "      <td>2.0</td>\n",
       "      <td>virginica</td>\n",
       "    </tr>\n",
       "    <tr>\n",
       "      <th>148</th>\n",
       "      <td>6.2</td>\n",
       "      <td>3.4</td>\n",
       "      <td>5.4</td>\n",
       "      <td>2.3</td>\n",
       "      <td>virginica</td>\n",
       "    </tr>\n",
       "    <tr>\n",
       "      <th>149</th>\n",
       "      <td>5.9</td>\n",
       "      <td>3.0</td>\n",
       "      <td>5.1</td>\n",
       "      <td>1.8</td>\n",
       "      <td>virginica</td>\n",
       "    </tr>\n",
       "  </tbody>\n",
       "</table>\n",
       "<p>150 rows × 5 columns</p>\n",
       "</div>"
      ],
      "text/plain": [
       "     sepal_length  sepal_width  petal_length  petal_width    species\n",
       "0             5.1          3.5           1.4          0.2     setosa\n",
       "1             4.9          3.0           1.4          0.2     setosa\n",
       "2             4.7          3.2           1.3          0.2     setosa\n",
       "3             4.6          3.1           1.5          0.2     setosa\n",
       "4             5.0          3.6           1.4          0.2     setosa\n",
       "..            ...          ...           ...          ...        ...\n",
       "145           6.7          3.0           5.2          2.3  virginica\n",
       "146           6.3          2.5           5.0          1.9  virginica\n",
       "147           6.5          3.0           5.2          2.0  virginica\n",
       "148           6.2          3.4           5.4          2.3  virginica\n",
       "149           5.9          3.0           5.1          1.8  virginica\n",
       "\n",
       "[150 rows x 5 columns]"
      ]
     },
     "execution_count": 141,
     "metadata": {},
     "output_type": "execute_result"
    }
   ],
   "source": [
    "iris"
   ]
  },
  {
   "cell_type": "markdown",
   "id": "8db68636",
   "metadata": {},
   "source": [
    "First, we can do `value_counts` to know how much species are there in the whole dataset."
   ]
  },
  {
   "cell_type": "code",
   "execution_count": 143,
   "id": "c051c281",
   "metadata": {},
   "outputs": [
    {
     "data": {
      "text/plain": [
       "setosa        50\n",
       "virginica     50\n",
       "versicolor    50\n",
       "Name: species, dtype: int64"
      ]
     },
     "execution_count": 143,
     "metadata": {},
     "output_type": "execute_result"
    }
   ],
   "source": [
    "iris['species'].value_counts()"
   ]
  },
  {
   "cell_type": "code",
   "execution_count": 144,
   "id": "c0944b16",
   "metadata": {},
   "outputs": [
    {
     "data": {
      "text/plain": [
       "setosa        0.333333\n",
       "virginica     0.333333\n",
       "versicolor    0.333333\n",
       "Name: species, dtype: float64"
      ]
     },
     "execution_count": 144,
     "metadata": {},
     "output_type": "execute_result"
    }
   ],
   "source": [
    "iris['species'].value_counts(normalize = True)"
   ]
  },
  {
   "cell_type": "markdown",
   "id": "3d39bc7e",
   "metadata": {},
   "source": [
    "Next, we can groupby each species and find out a few important things!"
   ]
  },
  {
   "cell_type": "code",
   "execution_count": 71,
   "id": "f2f63d09",
   "metadata": {},
   "outputs": [
    {
     "data": {
      "text/html": [
       "<div>\n",
       "<style scoped>\n",
       "    .dataframe tbody tr th:only-of-type {\n",
       "        vertical-align: middle;\n",
       "    }\n",
       "\n",
       "    .dataframe tbody tr th {\n",
       "        vertical-align: top;\n",
       "    }\n",
       "\n",
       "    .dataframe thead th {\n",
       "        text-align: right;\n",
       "    }\n",
       "</style>\n",
       "<table border=\"1\" class=\"dataframe\">\n",
       "  <thead>\n",
       "    <tr style=\"text-align: right;\">\n",
       "      <th></th>\n",
       "      <th>sepal_length</th>\n",
       "      <th>sepal_width</th>\n",
       "      <th>petal_length</th>\n",
       "      <th>petal_width</th>\n",
       "    </tr>\n",
       "    <tr>\n",
       "      <th>species</th>\n",
       "      <th></th>\n",
       "      <th></th>\n",
       "      <th></th>\n",
       "      <th></th>\n",
       "    </tr>\n",
       "  </thead>\n",
       "  <tbody>\n",
       "    <tr>\n",
       "      <th>setosa</th>\n",
       "      <td>5.8</td>\n",
       "      <td>4.4</td>\n",
       "      <td>1.9</td>\n",
       "      <td>0.6</td>\n",
       "    </tr>\n",
       "    <tr>\n",
       "      <th>versicolor</th>\n",
       "      <td>7.0</td>\n",
       "      <td>3.4</td>\n",
       "      <td>5.1</td>\n",
       "      <td>1.8</td>\n",
       "    </tr>\n",
       "    <tr>\n",
       "      <th>virginica</th>\n",
       "      <td>7.9</td>\n",
       "      <td>3.8</td>\n",
       "      <td>6.9</td>\n",
       "      <td>2.5</td>\n",
       "    </tr>\n",
       "  </tbody>\n",
       "</table>\n",
       "</div>"
      ],
      "text/plain": [
       "            sepal_length  sepal_width  petal_length  petal_width\n",
       "species                                                         \n",
       "setosa               5.8          4.4           1.9          0.6\n",
       "versicolor           7.0          3.4           5.1          1.8\n",
       "virginica            7.9          3.8           6.9          2.5"
      ]
     },
     "execution_count": 71,
     "metadata": {},
     "output_type": "execute_result"
    }
   ],
   "source": [
    "iris.groupby('species').max() #to know the maximum length/width of the flowers in each species"
   ]
  },
  {
   "cell_type": "markdown",
   "id": "29b57a1c",
   "metadata": {},
   "source": [
    "However, we can specify in details what we want to get from each columns, as such:"
   ]
  },
  {
   "cell_type": "code",
   "execution_count": 145,
   "id": "9f1ae340",
   "metadata": {},
   "outputs": [
    {
     "data": {
      "text/html": [
       "<div>\n",
       "<style scoped>\n",
       "    .dataframe tbody tr th:only-of-type {\n",
       "        vertical-align: middle;\n",
       "    }\n",
       "\n",
       "    .dataframe tbody tr th {\n",
       "        vertical-align: top;\n",
       "    }\n",
       "\n",
       "    .dataframe thead tr th {\n",
       "        text-align: left;\n",
       "    }\n",
       "\n",
       "    .dataframe thead tr:last-of-type th {\n",
       "        text-align: right;\n",
       "    }\n",
       "</style>\n",
       "<table border=\"1\" class=\"dataframe\">\n",
       "  <thead>\n",
       "    <tr>\n",
       "      <th></th>\n",
       "      <th>sepal_length</th>\n",
       "      <th>sepal_width</th>\n",
       "      <th colspan=\"2\" halign=\"left\">petal_length</th>\n",
       "    </tr>\n",
       "    <tr>\n",
       "      <th></th>\n",
       "      <th>max</th>\n",
       "      <th>mean</th>\n",
       "      <th>median</th>\n",
       "      <th>mean</th>\n",
       "    </tr>\n",
       "    <tr>\n",
       "      <th>species</th>\n",
       "      <th></th>\n",
       "      <th></th>\n",
       "      <th></th>\n",
       "      <th></th>\n",
       "    </tr>\n",
       "  </thead>\n",
       "  <tbody>\n",
       "    <tr>\n",
       "      <th>setosa</th>\n",
       "      <td>5.8</td>\n",
       "      <td>3.418</td>\n",
       "      <td>1.50</td>\n",
       "      <td>1.464</td>\n",
       "    </tr>\n",
       "    <tr>\n",
       "      <th>versicolor</th>\n",
       "      <td>7.0</td>\n",
       "      <td>2.770</td>\n",
       "      <td>4.35</td>\n",
       "      <td>4.260</td>\n",
       "    </tr>\n",
       "    <tr>\n",
       "      <th>virginica</th>\n",
       "      <td>7.9</td>\n",
       "      <td>2.974</td>\n",
       "      <td>5.55</td>\n",
       "      <td>5.552</td>\n",
       "    </tr>\n",
       "  </tbody>\n",
       "</table>\n",
       "</div>"
      ],
      "text/plain": [
       "           sepal_length sepal_width petal_length       \n",
       "                    max        mean       median   mean\n",
       "species                                                \n",
       "setosa              5.8       3.418         1.50  1.464\n",
       "versicolor          7.0       2.770         4.35  4.260\n",
       "virginica           7.9       2.974         5.55  5.552"
      ]
     },
     "execution_count": 145,
     "metadata": {},
     "output_type": "execute_result"
    }
   ],
   "source": [
    "iris.groupby('species').agg({'sepal_length':'max', \n",
    "                             'sepal_width':'mean',\n",
    "                            'petal_length':['median', 'mean']})"
   ]
  },
  {
   "cell_type": "code",
   "execution_count": 147,
   "id": "999fb58e",
   "metadata": {},
   "outputs": [],
   "source": [
    "groupby_result = iris.groupby('species').agg({'sepal_length':'max', 'sepal_width':'mean',\n",
    "                            'petal_length':['median', 'mean']})"
   ]
  },
  {
   "cell_type": "markdown",
   "id": "cb246cda",
   "metadata": {},
   "source": [
    "Perhatikan! Index kolomnya itu 'multi-index', sehingga jika kita ingin memilih beberapa kolom saja, bentuknya harus seperti ini:"
   ]
  },
  {
   "cell_type": "code",
   "execution_count": 149,
   "id": "5351d394",
   "metadata": {},
   "outputs": [
    {
     "data": {
      "text/html": [
       "<div>\n",
       "<style scoped>\n",
       "    .dataframe tbody tr th:only-of-type {\n",
       "        vertical-align: middle;\n",
       "    }\n",
       "\n",
       "    .dataframe tbody tr th {\n",
       "        vertical-align: top;\n",
       "    }\n",
       "\n",
       "    .dataframe thead tr th {\n",
       "        text-align: left;\n",
       "    }\n",
       "\n",
       "    .dataframe thead tr:last-of-type th {\n",
       "        text-align: right;\n",
       "    }\n",
       "</style>\n",
       "<table border=\"1\" class=\"dataframe\">\n",
       "  <thead>\n",
       "    <tr>\n",
       "      <th></th>\n",
       "      <th>sepal_length</th>\n",
       "      <th>petal_length</th>\n",
       "    </tr>\n",
       "    <tr>\n",
       "      <th></th>\n",
       "      <th>max</th>\n",
       "      <th>median</th>\n",
       "    </tr>\n",
       "    <tr>\n",
       "      <th>species</th>\n",
       "      <th></th>\n",
       "      <th></th>\n",
       "    </tr>\n",
       "  </thead>\n",
       "  <tbody>\n",
       "    <tr>\n",
       "      <th>setosa</th>\n",
       "      <td>5.8</td>\n",
       "      <td>1.50</td>\n",
       "    </tr>\n",
       "    <tr>\n",
       "      <th>versicolor</th>\n",
       "      <td>7.0</td>\n",
       "      <td>4.35</td>\n",
       "    </tr>\n",
       "    <tr>\n",
       "      <th>virginica</th>\n",
       "      <td>7.9</td>\n",
       "      <td>5.55</td>\n",
       "    </tr>\n",
       "  </tbody>\n",
       "</table>\n",
       "</div>"
      ],
      "text/plain": [
       "           sepal_length petal_length\n",
       "                    max       median\n",
       "species                             \n",
       "setosa              5.8         1.50\n",
       "versicolor          7.0         4.35\n",
       "virginica           7.9         5.55"
      ]
     },
     "execution_count": 149,
     "metadata": {},
     "output_type": "execute_result"
    }
   ],
   "source": [
    "groupby_result[[('sepal_length','max'), ('petal_length', 'median')]]"
   ]
  },
  {
   "cell_type": "markdown",
   "id": "725916a0",
   "metadata": {},
   "source": [
    "### IV. Pivot Table"
   ]
  },
  {
   "cell_type": "code",
   "execution_count": 159,
   "id": "bd6a18b3",
   "metadata": {},
   "outputs": [
    {
     "data": {
      "text/html": [
       "<div>\n",
       "<style scoped>\n",
       "    .dataframe tbody tr th:only-of-type {\n",
       "        vertical-align: middle;\n",
       "    }\n",
       "\n",
       "    .dataframe tbody tr th {\n",
       "        vertical-align: top;\n",
       "    }\n",
       "\n",
       "    .dataframe thead th {\n",
       "        text-align: right;\n",
       "    }\n",
       "</style>\n",
       "<table border=\"1\" class=\"dataframe\">\n",
       "  <thead>\n",
       "    <tr style=\"text-align: right;\">\n",
       "      <th></th>\n",
       "      <th>First Name</th>\n",
       "      <th>Last Name</th>\n",
       "      <th>Type</th>\n",
       "      <th>Department</th>\n",
       "      <th>YoE</th>\n",
       "      <th>Salary</th>\n",
       "    </tr>\n",
       "  </thead>\n",
       "  <tbody>\n",
       "    <tr>\n",
       "      <th>0</th>\n",
       "      <td>Aryan</td>\n",
       "      <td>Singh</td>\n",
       "      <td>Full-time Employee</td>\n",
       "      <td>Administration</td>\n",
       "      <td>2</td>\n",
       "      <td>20000</td>\n",
       "    </tr>\n",
       "    <tr>\n",
       "      <th>1</th>\n",
       "      <td>Rohan</td>\n",
       "      <td>Agarwal</td>\n",
       "      <td>Intern</td>\n",
       "      <td>Technical</td>\n",
       "      <td>3</td>\n",
       "      <td>5000</td>\n",
       "    </tr>\n",
       "    <tr>\n",
       "      <th>2</th>\n",
       "      <td>Riya</td>\n",
       "      <td>Shah</td>\n",
       "      <td>Full-time Employee</td>\n",
       "      <td>Administration</td>\n",
       "      <td>5</td>\n",
       "      <td>10000</td>\n",
       "    </tr>\n",
       "    <tr>\n",
       "      <th>3</th>\n",
       "      <td>Yash</td>\n",
       "      <td>Bhatia</td>\n",
       "      <td>Part-time Employee</td>\n",
       "      <td>Technical</td>\n",
       "      <td>7</td>\n",
       "      <td>10000</td>\n",
       "    </tr>\n",
       "    <tr>\n",
       "      <th>4</th>\n",
       "      <td>Siddhant</td>\n",
       "      <td>Khanna</td>\n",
       "      <td>Full-time Employee</td>\n",
       "      <td>Management</td>\n",
       "      <td>6</td>\n",
       "      <td>20000</td>\n",
       "    </tr>\n",
       "    <tr>\n",
       "      <th>5</th>\n",
       "      <td>Orang</td>\n",
       "      <td>Baru</td>\n",
       "      <td>Full-time Employee</td>\n",
       "      <td>Management</td>\n",
       "      <td>6</td>\n",
       "      <td>10000</td>\n",
       "    </tr>\n",
       "  </tbody>\n",
       "</table>\n",
       "</div>"
      ],
      "text/plain": [
       "  First Name Last Name                Type      Department  YoE  Salary\n",
       "0      Aryan     Singh  Full-time Employee  Administration    2   20000\n",
       "1      Rohan   Agarwal              Intern       Technical    3    5000\n",
       "2       Riya      Shah  Full-time Employee  Administration    5   10000\n",
       "3       Yash    Bhatia  Part-time Employee       Technical    7   10000\n",
       "4   Siddhant    Khanna  Full-time Employee      Management    6   20000\n",
       "5      Orang      Baru  Full-time Employee      Management    6   10000"
      ]
     },
     "execution_count": 159,
     "metadata": {},
     "output_type": "execute_result"
    }
   ],
   "source": [
    "df = pd.DataFrame({'First Name': ['Aryan', 'Rohan', 'Riya', 'Yash', 'Siddhant','Orang' ],\n",
    "                   'Last Name': ['Singh', 'Agarwal', 'Shah', 'Bhatia', 'Khanna', 'Baru'],\n",
    "                   'Type': ['Full-time Employee', 'Intern', 'Full-time Employee', \n",
    "                            'Part-time Employee', 'Full-time Employee', 'Full-time Employee'],\n",
    "                   'Department': ['Administration', 'Technical', 'Administration', \n",
    "                                  'Technical', 'Management', 'Management'],\n",
    "                   'YoE': [2, 3, 5, 7, 6, 6],\n",
    "                   'Salary': [20000, 5000, 10000, 10000, 20000,10000]})\n",
    "\n",
    "df"
   ]
  },
  {
   "cell_type": "code",
   "execution_count": 160,
   "id": "67602f87",
   "metadata": {},
   "outputs": [
    {
     "data": {
      "text/html": [
       "<div>\n",
       "<style scoped>\n",
       "    .dataframe tbody tr th:only-of-type {\n",
       "        vertical-align: middle;\n",
       "    }\n",
       "\n",
       "    .dataframe tbody tr th {\n",
       "        vertical-align: top;\n",
       "    }\n",
       "\n",
       "    .dataframe thead tr th {\n",
       "        text-align: left;\n",
       "    }\n",
       "\n",
       "    .dataframe thead tr:last-of-type th {\n",
       "        text-align: right;\n",
       "    }\n",
       "</style>\n",
       "<table border=\"1\" class=\"dataframe\">\n",
       "  <thead>\n",
       "    <tr>\n",
       "      <th></th>\n",
       "      <th></th>\n",
       "      <th>mean</th>\n",
       "      <th>count</th>\n",
       "    </tr>\n",
       "    <tr>\n",
       "      <th></th>\n",
       "      <th></th>\n",
       "      <th>Salary</th>\n",
       "      <th>Salary</th>\n",
       "    </tr>\n",
       "    <tr>\n",
       "      <th>Type</th>\n",
       "      <th>Department</th>\n",
       "      <th></th>\n",
       "      <th></th>\n",
       "    </tr>\n",
       "  </thead>\n",
       "  <tbody>\n",
       "    <tr>\n",
       "      <th rowspan=\"2\" valign=\"top\">Full-time Employee</th>\n",
       "      <th>Administration</th>\n",
       "      <td>15000</td>\n",
       "      <td>2</td>\n",
       "    </tr>\n",
       "    <tr>\n",
       "      <th>Management</th>\n",
       "      <td>15000</td>\n",
       "      <td>2</td>\n",
       "    </tr>\n",
       "    <tr>\n",
       "      <th>Intern</th>\n",
       "      <th>Technical</th>\n",
       "      <td>5000</td>\n",
       "      <td>1</td>\n",
       "    </tr>\n",
       "    <tr>\n",
       "      <th>Part-time Employee</th>\n",
       "      <th>Technical</th>\n",
       "      <td>10000</td>\n",
       "      <td>1</td>\n",
       "    </tr>\n",
       "  </tbody>\n",
       "</table>\n",
       "</div>"
      ],
      "text/plain": [
       "                                    mean  count\n",
       "                                  Salary Salary\n",
       "Type               Department                  \n",
       "Full-time Employee Administration  15000      2\n",
       "                   Management      15000      2\n",
       "Intern             Technical        5000      1\n",
       "Part-time Employee Technical       10000      1"
      ]
     },
     "execution_count": 160,
     "metadata": {},
     "output_type": "execute_result"
    }
   ],
   "source": [
    "df.pivot_table(index = ['Type', 'Department'], values = 'Salary', \n",
    "              aggfunc = ['mean', 'count'])"
   ]
  },
  {
   "cell_type": "markdown",
   "id": "8edba9a8",
   "metadata": {},
   "source": [
    "- Ada 2 orang yang 'Full Time Employee' di bagian 'Administration', gaji rata-rata mereka 15 000\n",
    "- Ada 1 Intern, dan dia bekerja di bagian 'Technical', dan gaji rata-rata dia 5 000"
   ]
  },
  {
   "cell_type": "code",
   "execution_count": 161,
   "id": "565f6b15",
   "metadata": {},
   "outputs": [
    {
     "data": {
      "text/html": [
       "<div>\n",
       "<style scoped>\n",
       "    .dataframe tbody tr th:only-of-type {\n",
       "        vertical-align: middle;\n",
       "    }\n",
       "\n",
       "    .dataframe tbody tr th {\n",
       "        vertical-align: top;\n",
       "    }\n",
       "\n",
       "    .dataframe thead tr th {\n",
       "        text-align: left;\n",
       "    }\n",
       "\n",
       "    .dataframe thead tr:last-of-type th {\n",
       "        text-align: right;\n",
       "    }\n",
       "</style>\n",
       "<table border=\"1\" class=\"dataframe\">\n",
       "  <thead>\n",
       "    <tr>\n",
       "      <th></th>\n",
       "      <th></th>\n",
       "      <th>mean</th>\n",
       "      <th>count</th>\n",
       "    </tr>\n",
       "    <tr>\n",
       "      <th></th>\n",
       "      <th></th>\n",
       "      <th>Salary</th>\n",
       "      <th>Salary</th>\n",
       "    </tr>\n",
       "    <tr>\n",
       "      <th>Department</th>\n",
       "      <th>Type</th>\n",
       "      <th></th>\n",
       "      <th></th>\n",
       "    </tr>\n",
       "  </thead>\n",
       "  <tbody>\n",
       "    <tr>\n",
       "      <th>Administration</th>\n",
       "      <th>Full-time Employee</th>\n",
       "      <td>15000</td>\n",
       "      <td>2</td>\n",
       "    </tr>\n",
       "    <tr>\n",
       "      <th>Management</th>\n",
       "      <th>Full-time Employee</th>\n",
       "      <td>15000</td>\n",
       "      <td>2</td>\n",
       "    </tr>\n",
       "    <tr>\n",
       "      <th rowspan=\"2\" valign=\"top\">Technical</th>\n",
       "      <th>Intern</th>\n",
       "      <td>5000</td>\n",
       "      <td>1</td>\n",
       "    </tr>\n",
       "    <tr>\n",
       "      <th>Part-time Employee</th>\n",
       "      <td>10000</td>\n",
       "      <td>1</td>\n",
       "    </tr>\n",
       "  </tbody>\n",
       "</table>\n",
       "</div>"
      ],
      "text/plain": [
       "                                    mean  count\n",
       "                                  Salary Salary\n",
       "Department     Type                            \n",
       "Administration Full-time Employee  15000      2\n",
       "Management     Full-time Employee  15000      2\n",
       "Technical      Intern               5000      1\n",
       "               Part-time Employee  10000      1"
      ]
     },
     "execution_count": 161,
     "metadata": {},
     "output_type": "execute_result"
    }
   ],
   "source": [
    "df.pivot_table(index = ['Department', 'Type'], values = 'Salary', \n",
    "              aggfunc = ['mean', 'count'])"
   ]
  },
  {
   "cell_type": "code",
   "execution_count": 162,
   "id": "b30dfdd4",
   "metadata": {},
   "outputs": [
    {
     "data": {
      "text/html": [
       "<div>\n",
       "<style scoped>\n",
       "    .dataframe tbody tr th:only-of-type {\n",
       "        vertical-align: middle;\n",
       "    }\n",
       "\n",
       "    .dataframe tbody tr th {\n",
       "        vertical-align: top;\n",
       "    }\n",
       "\n",
       "    .dataframe thead th {\n",
       "        text-align: right;\n",
       "    }\n",
       "</style>\n",
       "<table border=\"1\" class=\"dataframe\">\n",
       "  <thead>\n",
       "    <tr style=\"text-align: right;\">\n",
       "      <th></th>\n",
       "      <th></th>\n",
       "      <th>Salary</th>\n",
       "    </tr>\n",
       "    <tr>\n",
       "      <th>Department</th>\n",
       "      <th>Type</th>\n",
       "      <th></th>\n",
       "    </tr>\n",
       "  </thead>\n",
       "  <tbody>\n",
       "    <tr>\n",
       "      <th>Administration</th>\n",
       "      <th>Full-time Employee</th>\n",
       "      <td>15000</td>\n",
       "    </tr>\n",
       "    <tr>\n",
       "      <th>Management</th>\n",
       "      <th>Full-time Employee</th>\n",
       "      <td>15000</td>\n",
       "    </tr>\n",
       "    <tr>\n",
       "      <th rowspan=\"2\" valign=\"top\">Technical</th>\n",
       "      <th>Intern</th>\n",
       "      <td>5000</td>\n",
       "    </tr>\n",
       "    <tr>\n",
       "      <th>Part-time Employee</th>\n",
       "      <td>10000</td>\n",
       "    </tr>\n",
       "  </tbody>\n",
       "</table>\n",
       "</div>"
      ],
      "text/plain": [
       "                                   Salary\n",
       "Department     Type                      \n",
       "Administration Full-time Employee   15000\n",
       "Management     Full-time Employee   15000\n",
       "Technical      Intern                5000\n",
       "               Part-time Employee   10000"
      ]
     },
     "execution_count": 162,
     "metadata": {},
     "output_type": "execute_result"
    }
   ],
   "source": [
    "df.pivot_table(index = ['Department', 'Type'], values = 'Salary')"
   ]
  },
  {
   "cell_type": "markdown",
   "id": "2498380a",
   "metadata": {},
   "source": [
    "Nah, kalau ditukar seperti ini Index-nya, maka yang kita lihat lebih dulu itu Departmentnya, bukan status ketenagakerjaannya."
   ]
  },
  {
   "cell_type": "markdown",
   "id": "848beb39",
   "metadata": {},
   "source": [
    "Bagaimana kalau sekarang sintax kita seperti ini?"
   ]
  },
  {
   "cell_type": "code",
   "execution_count": 173,
   "id": "9e857adc",
   "metadata": {},
   "outputs": [
    {
     "data": {
      "text/html": [
       "<div>\n",
       "<style scoped>\n",
       "    .dataframe tbody tr th:only-of-type {\n",
       "        vertical-align: middle;\n",
       "    }\n",
       "\n",
       "    .dataframe tbody tr th {\n",
       "        vertical-align: top;\n",
       "    }\n",
       "\n",
       "    .dataframe thead th {\n",
       "        text-align: right;\n",
       "    }\n",
       "</style>\n",
       "<table border=\"1\" class=\"dataframe\">\n",
       "  <thead>\n",
       "    <tr style=\"text-align: right;\">\n",
       "      <th></th>\n",
       "      <th>YoE</th>\n",
       "      <th>2</th>\n",
       "      <th>3</th>\n",
       "      <th>5</th>\n",
       "      <th>6</th>\n",
       "      <th>7</th>\n",
       "    </tr>\n",
       "    <tr>\n",
       "      <th>Department</th>\n",
       "      <th>Type</th>\n",
       "      <th></th>\n",
       "      <th></th>\n",
       "      <th></th>\n",
       "      <th></th>\n",
       "      <th></th>\n",
       "    </tr>\n",
       "  </thead>\n",
       "  <tbody>\n",
       "    <tr>\n",
       "      <th>Administration</th>\n",
       "      <th>Full-time Employee</th>\n",
       "      <td>20000.0</td>\n",
       "      <td>NaN</td>\n",
       "      <td>10000.0</td>\n",
       "      <td>NaN</td>\n",
       "      <td>NaN</td>\n",
       "    </tr>\n",
       "    <tr>\n",
       "      <th>Management</th>\n",
       "      <th>Full-time Employee</th>\n",
       "      <td>NaN</td>\n",
       "      <td>NaN</td>\n",
       "      <td>NaN</td>\n",
       "      <td>15000.0</td>\n",
       "      <td>NaN</td>\n",
       "    </tr>\n",
       "    <tr>\n",
       "      <th rowspan=\"2\" valign=\"top\">Technical</th>\n",
       "      <th>Intern</th>\n",
       "      <td>NaN</td>\n",
       "      <td>5000.0</td>\n",
       "      <td>NaN</td>\n",
       "      <td>NaN</td>\n",
       "      <td>NaN</td>\n",
       "    </tr>\n",
       "    <tr>\n",
       "      <th>Part-time Employee</th>\n",
       "      <td>NaN</td>\n",
       "      <td>NaN</td>\n",
       "      <td>NaN</td>\n",
       "      <td>NaN</td>\n",
       "      <td>10000.0</td>\n",
       "    </tr>\n",
       "  </tbody>\n",
       "</table>\n",
       "</div>"
      ],
      "text/plain": [
       "YoE                                      2       3        5        6        7\n",
       "Department     Type                                                          \n",
       "Administration Full-time Employee  20000.0     NaN  10000.0      NaN      NaN\n",
       "Management     Full-time Employee      NaN     NaN      NaN  15000.0      NaN\n",
       "Technical      Intern                  NaN  5000.0      NaN      NaN      NaN\n",
       "               Part-time Employee      NaN     NaN      NaN      NaN  10000.0"
      ]
     },
     "execution_count": 173,
     "metadata": {},
     "output_type": "execute_result"
    }
   ],
   "source": [
    "df.pivot_table(index = ['Department', 'Type'], \n",
    "               columns = ['YoE'], \n",
    "               values = 'Salary')"
   ]
  },
  {
   "cell_type": "markdown",
   "id": "6e4a01da",
   "metadata": {},
   "source": [
    "Sekarang, kita memiliki kolom 'YoE', artinya (Years of Experience). Dengan melihat tabel di atas, kita bisa belajar bahwa:\n",
    "1. Ada ketimpangan gaji di Department Administration untuk para employee yang Full Time! Yang punya 2 tahun pengalaman dapet gaji 20 000, tapi yang punya 5 tahun pengalaman dapet gaji 10 000. \n",
    "\n",
    "2. Untuk department Management, si employee yang gajinya 20 000 itu memiliki 6 tahun pengalaman\n",
    "3. dst"
   ]
  },
  {
   "cell_type": "markdown",
   "id": "c90d2ce6",
   "metadata": {},
   "source": [
    "Pivot table memberikan kita kesempatan untuk melihat keadaan data secara 'garis besar', dan kita bisa memilih aspek-aspek apa saja yang ingin di highlight. "
   ]
  },
  {
   "cell_type": "markdown",
   "id": "670c1d4b",
   "metadata": {},
   "source": [
    "### V. Data Transformation"
   ]
  },
  {
   "cell_type": "markdown",
   "id": "751ec4e6",
   "metadata": {},
   "source": [
    "Kita bisa melakukan operasi kolom (atau baris) di dataframe menggunakan fitur `apply` pada `pandas`. "
   ]
  },
  {
   "cell_type": "code",
   "execution_count": 176,
   "id": "a82c8821",
   "metadata": {},
   "outputs": [
    {
     "data": {
      "text/html": [
       "<div>\n",
       "<style scoped>\n",
       "    .dataframe tbody tr th:only-of-type {\n",
       "        vertical-align: middle;\n",
       "    }\n",
       "\n",
       "    .dataframe tbody tr th {\n",
       "        vertical-align: top;\n",
       "    }\n",
       "\n",
       "    .dataframe thead th {\n",
       "        text-align: right;\n",
       "    }\n",
       "</style>\n",
       "<table border=\"1\" class=\"dataframe\">\n",
       "  <thead>\n",
       "    <tr style=\"text-align: right;\">\n",
       "      <th></th>\n",
       "      <th>A</th>\n",
       "      <th>B</th>\n",
       "      <th>C</th>\n",
       "    </tr>\n",
       "  </thead>\n",
       "  <tbody>\n",
       "    <tr>\n",
       "      <th>0</th>\n",
       "      <td>1</td>\n",
       "      <td>35</td>\n",
       "      <td>34</td>\n",
       "    </tr>\n",
       "    <tr>\n",
       "      <th>1</th>\n",
       "      <td>2</td>\n",
       "      <td>64</td>\n",
       "      <td>35</td>\n",
       "    </tr>\n",
       "    <tr>\n",
       "      <th>2</th>\n",
       "      <td>8</td>\n",
       "      <td>20</td>\n",
       "      <td>34</td>\n",
       "    </tr>\n",
       "    <tr>\n",
       "      <th>3</th>\n",
       "      <td>1</td>\n",
       "      <td>23</td>\n",
       "      <td>44</td>\n",
       "    </tr>\n",
       "    <tr>\n",
       "      <th>4</th>\n",
       "      <td>6</td>\n",
       "      <td>50</td>\n",
       "      <td>31</td>\n",
       "    </tr>\n",
       "    <tr>\n",
       "      <th>...</th>\n",
       "      <td>...</td>\n",
       "      <td>...</td>\n",
       "      <td>...</td>\n",
       "    </tr>\n",
       "    <tr>\n",
       "      <th>95</th>\n",
       "      <td>4</td>\n",
       "      <td>82</td>\n",
       "      <td>31</td>\n",
       "    </tr>\n",
       "    <tr>\n",
       "      <th>96</th>\n",
       "      <td>9</td>\n",
       "      <td>49</td>\n",
       "      <td>40</td>\n",
       "    </tr>\n",
       "    <tr>\n",
       "      <th>97</th>\n",
       "      <td>7</td>\n",
       "      <td>30</td>\n",
       "      <td>30</td>\n",
       "    </tr>\n",
       "    <tr>\n",
       "      <th>98</th>\n",
       "      <td>1</td>\n",
       "      <td>92</td>\n",
       "      <td>23</td>\n",
       "    </tr>\n",
       "    <tr>\n",
       "      <th>99</th>\n",
       "      <td>3</td>\n",
       "      <td>20</td>\n",
       "      <td>41</td>\n",
       "    </tr>\n",
       "  </tbody>\n",
       "</table>\n",
       "<p>100 rows × 3 columns</p>\n",
       "</div>"
      ],
      "text/plain": [
       "    A   B   C\n",
       "0   1  35  34\n",
       "1   2  64  35\n",
       "2   8  20  34\n",
       "3   1  23  44\n",
       "4   6  50  31\n",
       ".. ..  ..  ..\n",
       "95  4  82  31\n",
       "96  9  49  40\n",
       "97  7  30  30\n",
       "98  1  92  23\n",
       "99  3  20  41\n",
       "\n",
       "[100 rows x 3 columns]"
      ]
     },
     "execution_count": 176,
     "metadata": {},
     "output_type": "execute_result"
    }
   ],
   "source": [
    "df = pd.DataFrame({ 'A': np.random.randint(low = 1, high = 10, size = 100), \n",
    "                   'B': np.random.randint(low = 10, high = 100, size = 100),\n",
    "                   'C': np.random.randint(low = 20, high = 45, size = 100)\n",
    "                  }, )\n",
    "df"
   ]
  },
  {
   "cell_type": "markdown",
   "id": "a84c9b2f",
   "metadata": {},
   "source": [
    "Misal kita ingin membuat kolom baru, kolom 'D', dengan rumus sebagai berikut:\n",
    "- D = 10 * A + (0.5 * B) - Akar(C)"
   ]
  },
  {
   "cell_type": "markdown",
   "id": "dd4f77f0",
   "metadata": {},
   "source": [
    "Maka bagaimana agar kita cukup menulis 1 fungsi saja, dan langsung bisa menghitung seluruh baris di dataframe kita?"
   ]
  },
  {
   "cell_type": "code",
   "execution_count": 177,
   "id": "2f63d41b",
   "metadata": {},
   "outputs": [],
   "source": [
    "def custom_operation(a, b, c):\n",
    "    return 10*a + (0.5)*b - np.sqrt(c)"
   ]
  },
  {
   "cell_type": "code",
   "execution_count": 181,
   "id": "68c6d4e1",
   "metadata": {},
   "outputs": [],
   "source": [
    "df['D'] = df.apply(lambda x: custom_operation(x['A'], x['B'], x['C']), axis = 1)"
   ]
  },
  {
   "cell_type": "code",
   "execution_count": 182,
   "id": "eec2b7f0",
   "metadata": {},
   "outputs": [],
   "source": [
    "df['D'] = df.apply(lambda x: custom_operation(x['A'], x['B'], x['C']), axis = 1)"
   ]
  },
  {
   "cell_type": "code",
   "execution_count": 185,
   "id": "8f7aa7b7",
   "metadata": {},
   "outputs": [
    {
     "name": "stdout",
     "output_type": "stream",
     "text": [
      "21.6690481051547\n",
      "75.43223563716998\n"
     ]
    }
   ],
   "source": [
    "### CEK Index 0 dan 95\n",
    "print(10*1 + 0.5*35 - np.sqrt(34))\n",
    "print(10*4 + 0.5*82 - np.sqrt(31))"
   ]
  },
  {
   "cell_type": "code",
   "execution_count": 196,
   "id": "68b3c5a3",
   "metadata": {
    "scrolled": true
   },
   "outputs": [
    {
     "data": {
      "text/html": [
       "<div>\n",
       "<style scoped>\n",
       "    .dataframe tbody tr th:only-of-type {\n",
       "        vertical-align: middle;\n",
       "    }\n",
       "\n",
       "    .dataframe tbody tr th {\n",
       "        vertical-align: top;\n",
       "    }\n",
       "\n",
       "    .dataframe thead th {\n",
       "        text-align: right;\n",
       "    }\n",
       "</style>\n",
       "<table border=\"1\" class=\"dataframe\">\n",
       "  <thead>\n",
       "    <tr style=\"text-align: right;\">\n",
       "      <th></th>\n",
       "      <th>A</th>\n",
       "      <th>B</th>\n",
       "      <th>C</th>\n",
       "      <th>D</th>\n",
       "      <th>E</th>\n",
       "      <th>F</th>\n",
       "    </tr>\n",
       "  </thead>\n",
       "  <tbody>\n",
       "    <tr>\n",
       "      <th>0</th>\n",
       "      <td>1</td>\n",
       "      <td>35</td>\n",
       "      <td>34</td>\n",
       "      <td>21.669048</td>\n",
       "      <td>3</td>\n",
       "      <td>36.0</td>\n",
       "    </tr>\n",
       "    <tr>\n",
       "      <th>1</th>\n",
       "      <td>2</td>\n",
       "      <td>64</td>\n",
       "      <td>35</td>\n",
       "      <td>46.083920</td>\n",
       "      <td>4</td>\n",
       "      <td>66.0</td>\n",
       "    </tr>\n",
       "    <tr>\n",
       "      <th>2</th>\n",
       "      <td>8</td>\n",
       "      <td>20</td>\n",
       "      <td>34</td>\n",
       "      <td>84.169048</td>\n",
       "      <td>10</td>\n",
       "      <td>28.0</td>\n",
       "    </tr>\n",
       "    <tr>\n",
       "      <th>3</th>\n",
       "      <td>1</td>\n",
       "      <td>23</td>\n",
       "      <td>44</td>\n",
       "      <td>14.866750</td>\n",
       "      <td>3</td>\n",
       "      <td>24.0</td>\n",
       "    </tr>\n",
       "    <tr>\n",
       "      <th>4</th>\n",
       "      <td>6</td>\n",
       "      <td>50</td>\n",
       "      <td>31</td>\n",
       "      <td>79.432236</td>\n",
       "      <td>8</td>\n",
       "      <td>56.0</td>\n",
       "    </tr>\n",
       "    <tr>\n",
       "      <th>...</th>\n",
       "      <td>...</td>\n",
       "      <td>...</td>\n",
       "      <td>...</td>\n",
       "      <td>...</td>\n",
       "      <td>...</td>\n",
       "      <td>...</td>\n",
       "    </tr>\n",
       "    <tr>\n",
       "      <th>95</th>\n",
       "      <td>4</td>\n",
       "      <td>82</td>\n",
       "      <td>31</td>\n",
       "      <td>75.432236</td>\n",
       "      <td>6</td>\n",
       "      <td>86.0</td>\n",
       "    </tr>\n",
       "    <tr>\n",
       "      <th>96</th>\n",
       "      <td>9</td>\n",
       "      <td>49</td>\n",
       "      <td>40</td>\n",
       "      <td>108.175445</td>\n",
       "      <td>11</td>\n",
       "      <td>58.0</td>\n",
       "    </tr>\n",
       "    <tr>\n",
       "      <th>97</th>\n",
       "      <td>7</td>\n",
       "      <td>30</td>\n",
       "      <td>30</td>\n",
       "      <td>79.522774</td>\n",
       "      <td>9</td>\n",
       "      <td>37.0</td>\n",
       "    </tr>\n",
       "    <tr>\n",
       "      <th>98</th>\n",
       "      <td>1</td>\n",
       "      <td>92</td>\n",
       "      <td>23</td>\n",
       "      <td>51.204168</td>\n",
       "      <td>3</td>\n",
       "      <td>93.0</td>\n",
       "    </tr>\n",
       "    <tr>\n",
       "      <th>99</th>\n",
       "      <td>3</td>\n",
       "      <td>20</td>\n",
       "      <td>41</td>\n",
       "      <td>33.596876</td>\n",
       "      <td>5</td>\n",
       "      <td>23.0</td>\n",
       "    </tr>\n",
       "  </tbody>\n",
       "</table>\n",
       "<p>100 rows × 6 columns</p>\n",
       "</div>"
      ],
      "text/plain": [
       "    A   B   C           D   E     F\n",
       "0   1  35  34   21.669048   3  36.0\n",
       "1   2  64  35   46.083920   4  66.0\n",
       "2   8  20  34   84.169048  10  28.0\n",
       "3   1  23  44   14.866750   3  24.0\n",
       "4   6  50  31   79.432236   8  56.0\n",
       ".. ..  ..  ..         ...  ..   ...\n",
       "95  4  82  31   75.432236   6  86.0\n",
       "96  9  49  40  108.175445  11  58.0\n",
       "97  7  30  30   79.522774   9  37.0\n",
       "98  1  92  23   51.204168   3  93.0\n",
       "99  3  20  41   33.596876   5  23.0\n",
       "\n",
       "[100 rows x 6 columns]"
      ]
     },
     "execution_count": 196,
     "metadata": {},
     "output_type": "execute_result"
    }
   ],
   "source": [
    "df"
   ]
  },
  {
   "cell_type": "code",
   "execution_count": 201,
   "id": "3f07495b",
   "metadata": {},
   "outputs": [],
   "source": [
    "df['product_ABC' ] = df[['A','B','C']].product(axis = 1)"
   ]
  },
  {
   "cell_type": "code",
   "execution_count": 202,
   "id": "baa04f6a",
   "metadata": {},
   "outputs": [
    {
     "data": {
      "text/html": [
       "<div>\n",
       "<style scoped>\n",
       "    .dataframe tbody tr th:only-of-type {\n",
       "        vertical-align: middle;\n",
       "    }\n",
       "\n",
       "    .dataframe tbody tr th {\n",
       "        vertical-align: top;\n",
       "    }\n",
       "\n",
       "    .dataframe thead th {\n",
       "        text-align: right;\n",
       "    }\n",
       "</style>\n",
       "<table border=\"1\" class=\"dataframe\">\n",
       "  <thead>\n",
       "    <tr style=\"text-align: right;\">\n",
       "      <th></th>\n",
       "      <th>A</th>\n",
       "      <th>B</th>\n",
       "      <th>C</th>\n",
       "      <th>D</th>\n",
       "      <th>E</th>\n",
       "      <th>F</th>\n",
       "      <th>product_ABC</th>\n",
       "    </tr>\n",
       "  </thead>\n",
       "  <tbody>\n",
       "    <tr>\n",
       "      <th>0</th>\n",
       "      <td>1</td>\n",
       "      <td>35</td>\n",
       "      <td>34</td>\n",
       "      <td>21.669048</td>\n",
       "      <td>3</td>\n",
       "      <td>36.0</td>\n",
       "      <td>1190</td>\n",
       "    </tr>\n",
       "    <tr>\n",
       "      <th>1</th>\n",
       "      <td>2</td>\n",
       "      <td>64</td>\n",
       "      <td>35</td>\n",
       "      <td>46.083920</td>\n",
       "      <td>4</td>\n",
       "      <td>66.0</td>\n",
       "      <td>4480</td>\n",
       "    </tr>\n",
       "    <tr>\n",
       "      <th>2</th>\n",
       "      <td>8</td>\n",
       "      <td>20</td>\n",
       "      <td>34</td>\n",
       "      <td>84.169048</td>\n",
       "      <td>10</td>\n",
       "      <td>28.0</td>\n",
       "      <td>5440</td>\n",
       "    </tr>\n",
       "    <tr>\n",
       "      <th>3</th>\n",
       "      <td>1</td>\n",
       "      <td>23</td>\n",
       "      <td>44</td>\n",
       "      <td>14.866750</td>\n",
       "      <td>3</td>\n",
       "      <td>24.0</td>\n",
       "      <td>1012</td>\n",
       "    </tr>\n",
       "    <tr>\n",
       "      <th>4</th>\n",
       "      <td>6</td>\n",
       "      <td>50</td>\n",
       "      <td>31</td>\n",
       "      <td>79.432236</td>\n",
       "      <td>8</td>\n",
       "      <td>56.0</td>\n",
       "      <td>9300</td>\n",
       "    </tr>\n",
       "    <tr>\n",
       "      <th>...</th>\n",
       "      <td>...</td>\n",
       "      <td>...</td>\n",
       "      <td>...</td>\n",
       "      <td>...</td>\n",
       "      <td>...</td>\n",
       "      <td>...</td>\n",
       "      <td>...</td>\n",
       "    </tr>\n",
       "    <tr>\n",
       "      <th>95</th>\n",
       "      <td>4</td>\n",
       "      <td>82</td>\n",
       "      <td>31</td>\n",
       "      <td>75.432236</td>\n",
       "      <td>6</td>\n",
       "      <td>86.0</td>\n",
       "      <td>10168</td>\n",
       "    </tr>\n",
       "    <tr>\n",
       "      <th>96</th>\n",
       "      <td>9</td>\n",
       "      <td>49</td>\n",
       "      <td>40</td>\n",
       "      <td>108.175445</td>\n",
       "      <td>11</td>\n",
       "      <td>58.0</td>\n",
       "      <td>17640</td>\n",
       "    </tr>\n",
       "    <tr>\n",
       "      <th>97</th>\n",
       "      <td>7</td>\n",
       "      <td>30</td>\n",
       "      <td>30</td>\n",
       "      <td>79.522774</td>\n",
       "      <td>9</td>\n",
       "      <td>37.0</td>\n",
       "      <td>6300</td>\n",
       "    </tr>\n",
       "    <tr>\n",
       "      <th>98</th>\n",
       "      <td>1</td>\n",
       "      <td>92</td>\n",
       "      <td>23</td>\n",
       "      <td>51.204168</td>\n",
       "      <td>3</td>\n",
       "      <td>93.0</td>\n",
       "      <td>2116</td>\n",
       "    </tr>\n",
       "    <tr>\n",
       "      <th>99</th>\n",
       "      <td>3</td>\n",
       "      <td>20</td>\n",
       "      <td>41</td>\n",
       "      <td>33.596876</td>\n",
       "      <td>5</td>\n",
       "      <td>23.0</td>\n",
       "      <td>2460</td>\n",
       "    </tr>\n",
       "  </tbody>\n",
       "</table>\n",
       "<p>100 rows × 7 columns</p>\n",
       "</div>"
      ],
      "text/plain": [
       "    A   B   C           D   E     F  product_ABC\n",
       "0   1  35  34   21.669048   3  36.0         1190\n",
       "1   2  64  35   46.083920   4  66.0         4480\n",
       "2   8  20  34   84.169048  10  28.0         5440\n",
       "3   1  23  44   14.866750   3  24.0         1012\n",
       "4   6  50  31   79.432236   8  56.0         9300\n",
       ".. ..  ..  ..         ...  ..   ...          ...\n",
       "95  4  82  31   75.432236   6  86.0        10168\n",
       "96  9  49  40  108.175445  11  58.0        17640\n",
       "97  7  30  30   79.522774   9  37.0         6300\n",
       "98  1  92  23   51.204168   3  93.0         2116\n",
       "99  3  20  41   33.596876   5  23.0         2460\n",
       "\n",
       "[100 rows x 7 columns]"
      ]
     },
     "execution_count": 202,
     "metadata": {},
     "output_type": "execute_result"
    }
   ],
   "source": [
    "df"
   ]
  },
  {
   "cell_type": "code",
   "execution_count": 186,
   "id": "152047de",
   "metadata": {},
   "outputs": [],
   "source": [
    "# apply 1 kolom doang\n",
    "df['E'] = df['A'].apply(lambda x: x + 2)"
   ]
  },
  {
   "cell_type": "code",
   "execution_count": 189,
   "id": "cf5c5c92",
   "metadata": {},
   "outputs": [],
   "source": [
    "# apply 2 kolom \n",
    "df['F'] = df.apply(lambda x: x['A'] + x['B'], axis = 1)"
   ]
  },
  {
   "cell_type": "code",
   "execution_count": 190,
   "id": "d41d7ddf",
   "metadata": {},
   "outputs": [
    {
     "data": {
      "text/html": [
       "<div>\n",
       "<style scoped>\n",
       "    .dataframe tbody tr th:only-of-type {\n",
       "        vertical-align: middle;\n",
       "    }\n",
       "\n",
       "    .dataframe tbody tr th {\n",
       "        vertical-align: top;\n",
       "    }\n",
       "\n",
       "    .dataframe thead th {\n",
       "        text-align: right;\n",
       "    }\n",
       "</style>\n",
       "<table border=\"1\" class=\"dataframe\">\n",
       "  <thead>\n",
       "    <tr style=\"text-align: right;\">\n",
       "      <th></th>\n",
       "      <th>A</th>\n",
       "      <th>B</th>\n",
       "      <th>C</th>\n",
       "      <th>D</th>\n",
       "      <th>E</th>\n",
       "      <th>F</th>\n",
       "    </tr>\n",
       "  </thead>\n",
       "  <tbody>\n",
       "    <tr>\n",
       "      <th>0</th>\n",
       "      <td>1</td>\n",
       "      <td>35</td>\n",
       "      <td>34</td>\n",
       "      <td>21.669048</td>\n",
       "      <td>3</td>\n",
       "      <td>36.0</td>\n",
       "    </tr>\n",
       "    <tr>\n",
       "      <th>1</th>\n",
       "      <td>2</td>\n",
       "      <td>64</td>\n",
       "      <td>35</td>\n",
       "      <td>46.083920</td>\n",
       "      <td>4</td>\n",
       "      <td>66.0</td>\n",
       "    </tr>\n",
       "    <tr>\n",
       "      <th>2</th>\n",
       "      <td>8</td>\n",
       "      <td>20</td>\n",
       "      <td>34</td>\n",
       "      <td>84.169048</td>\n",
       "      <td>10</td>\n",
       "      <td>28.0</td>\n",
       "    </tr>\n",
       "    <tr>\n",
       "      <th>3</th>\n",
       "      <td>1</td>\n",
       "      <td>23</td>\n",
       "      <td>44</td>\n",
       "      <td>14.866750</td>\n",
       "      <td>3</td>\n",
       "      <td>24.0</td>\n",
       "    </tr>\n",
       "    <tr>\n",
       "      <th>4</th>\n",
       "      <td>6</td>\n",
       "      <td>50</td>\n",
       "      <td>31</td>\n",
       "      <td>79.432236</td>\n",
       "      <td>8</td>\n",
       "      <td>56.0</td>\n",
       "    </tr>\n",
       "    <tr>\n",
       "      <th>...</th>\n",
       "      <td>...</td>\n",
       "      <td>...</td>\n",
       "      <td>...</td>\n",
       "      <td>...</td>\n",
       "      <td>...</td>\n",
       "      <td>...</td>\n",
       "    </tr>\n",
       "    <tr>\n",
       "      <th>95</th>\n",
       "      <td>4</td>\n",
       "      <td>82</td>\n",
       "      <td>31</td>\n",
       "      <td>75.432236</td>\n",
       "      <td>6</td>\n",
       "      <td>86.0</td>\n",
       "    </tr>\n",
       "    <tr>\n",
       "      <th>96</th>\n",
       "      <td>9</td>\n",
       "      <td>49</td>\n",
       "      <td>40</td>\n",
       "      <td>108.175445</td>\n",
       "      <td>11</td>\n",
       "      <td>58.0</td>\n",
       "    </tr>\n",
       "    <tr>\n",
       "      <th>97</th>\n",
       "      <td>7</td>\n",
       "      <td>30</td>\n",
       "      <td>30</td>\n",
       "      <td>79.522774</td>\n",
       "      <td>9</td>\n",
       "      <td>37.0</td>\n",
       "    </tr>\n",
       "    <tr>\n",
       "      <th>98</th>\n",
       "      <td>1</td>\n",
       "      <td>92</td>\n",
       "      <td>23</td>\n",
       "      <td>51.204168</td>\n",
       "      <td>3</td>\n",
       "      <td>93.0</td>\n",
       "    </tr>\n",
       "    <tr>\n",
       "      <th>99</th>\n",
       "      <td>3</td>\n",
       "      <td>20</td>\n",
       "      <td>41</td>\n",
       "      <td>33.596876</td>\n",
       "      <td>5</td>\n",
       "      <td>23.0</td>\n",
       "    </tr>\n",
       "  </tbody>\n",
       "</table>\n",
       "<p>100 rows × 6 columns</p>\n",
       "</div>"
      ],
      "text/plain": [
       "    A   B   C           D   E     F\n",
       "0   1  35  34   21.669048   3  36.0\n",
       "1   2  64  35   46.083920   4  66.0\n",
       "2   8  20  34   84.169048  10  28.0\n",
       "3   1  23  44   14.866750   3  24.0\n",
       "4   6  50  31   79.432236   8  56.0\n",
       ".. ..  ..  ..         ...  ..   ...\n",
       "95  4  82  31   75.432236   6  86.0\n",
       "96  9  49  40  108.175445  11  58.0\n",
       "97  7  30  30   79.522774   9  37.0\n",
       "98  1  92  23   51.204168   3  93.0\n",
       "99  3  20  41   33.596876   5  23.0\n",
       "\n",
       "[100 rows x 6 columns]"
      ]
     },
     "execution_count": 190,
     "metadata": {},
     "output_type": "execute_result"
    }
   ],
   "source": [
    "df"
   ]
  },
  {
   "cell_type": "markdown",
   "id": "949b3485",
   "metadata": {},
   "source": [
    "Nah, kalo kita cuma pengen tau rata-rata per barisnya gimana? Apakah perlu se-ribet itu? Nggak pastinya. Kalau operasinya itu yang umum-umum saja, tidak usah pakai `apply lambda`. "
   ]
  },
  {
   "cell_type": "code",
   "execution_count": 203,
   "id": "52883775",
   "metadata": {},
   "outputs": [],
   "source": [
    "df['rata-rata_abc'] = df[['A','B','C']].mean(axis = 1)"
   ]
  },
  {
   "cell_type": "code",
   "execution_count": 205,
   "id": "68f43c91",
   "metadata": {},
   "outputs": [
    {
     "data": {
      "text/plain": [
       "23.333333333333332"
      ]
     },
     "execution_count": 205,
     "metadata": {},
     "output_type": "execute_result"
    }
   ],
   "source": [
    "np.mean([1,35,34])"
   ]
  },
  {
   "cell_type": "code",
   "execution_count": 206,
   "id": "ef6b1b9d",
   "metadata": {},
   "outputs": [],
   "source": [
    "df['cumsum_a'] = df['A'].cumsum()"
   ]
  },
  {
   "cell_type": "code",
   "execution_count": 208,
   "id": "360e1bc6",
   "metadata": {},
   "outputs": [],
   "source": [
    "df['B_bagi_A'] = df['B'] / df['A']"
   ]
  },
  {
   "cell_type": "code",
   "execution_count": 209,
   "id": "1b75288f",
   "metadata": {},
   "outputs": [
    {
     "data": {
      "text/html": [
       "<div>\n",
       "<style scoped>\n",
       "    .dataframe tbody tr th:only-of-type {\n",
       "        vertical-align: middle;\n",
       "    }\n",
       "\n",
       "    .dataframe tbody tr th {\n",
       "        vertical-align: top;\n",
       "    }\n",
       "\n",
       "    .dataframe thead th {\n",
       "        text-align: right;\n",
       "    }\n",
       "</style>\n",
       "<table border=\"1\" class=\"dataframe\">\n",
       "  <thead>\n",
       "    <tr style=\"text-align: right;\">\n",
       "      <th></th>\n",
       "      <th>A</th>\n",
       "      <th>B</th>\n",
       "      <th>C</th>\n",
       "      <th>D</th>\n",
       "      <th>E</th>\n",
       "      <th>F</th>\n",
       "      <th>product_ABC</th>\n",
       "      <th>rata-rata_abc</th>\n",
       "      <th>cumsum_a</th>\n",
       "      <th>B_bagi_A</th>\n",
       "    </tr>\n",
       "  </thead>\n",
       "  <tbody>\n",
       "    <tr>\n",
       "      <th>0</th>\n",
       "      <td>1</td>\n",
       "      <td>35</td>\n",
       "      <td>34</td>\n",
       "      <td>21.669048</td>\n",
       "      <td>3</td>\n",
       "      <td>36.0</td>\n",
       "      <td>1190</td>\n",
       "      <td>23.333333</td>\n",
       "      <td>1</td>\n",
       "      <td>35.000000</td>\n",
       "    </tr>\n",
       "    <tr>\n",
       "      <th>1</th>\n",
       "      <td>2</td>\n",
       "      <td>64</td>\n",
       "      <td>35</td>\n",
       "      <td>46.083920</td>\n",
       "      <td>4</td>\n",
       "      <td>66.0</td>\n",
       "      <td>4480</td>\n",
       "      <td>33.666667</td>\n",
       "      <td>3</td>\n",
       "      <td>32.000000</td>\n",
       "    </tr>\n",
       "    <tr>\n",
       "      <th>2</th>\n",
       "      <td>8</td>\n",
       "      <td>20</td>\n",
       "      <td>34</td>\n",
       "      <td>84.169048</td>\n",
       "      <td>10</td>\n",
       "      <td>28.0</td>\n",
       "      <td>5440</td>\n",
       "      <td>20.666667</td>\n",
       "      <td>11</td>\n",
       "      <td>2.500000</td>\n",
       "    </tr>\n",
       "    <tr>\n",
       "      <th>3</th>\n",
       "      <td>1</td>\n",
       "      <td>23</td>\n",
       "      <td>44</td>\n",
       "      <td>14.866750</td>\n",
       "      <td>3</td>\n",
       "      <td>24.0</td>\n",
       "      <td>1012</td>\n",
       "      <td>22.666667</td>\n",
       "      <td>12</td>\n",
       "      <td>23.000000</td>\n",
       "    </tr>\n",
       "    <tr>\n",
       "      <th>4</th>\n",
       "      <td>6</td>\n",
       "      <td>50</td>\n",
       "      <td>31</td>\n",
       "      <td>79.432236</td>\n",
       "      <td>8</td>\n",
       "      <td>56.0</td>\n",
       "      <td>9300</td>\n",
       "      <td>29.000000</td>\n",
       "      <td>18</td>\n",
       "      <td>8.333333</td>\n",
       "    </tr>\n",
       "    <tr>\n",
       "      <th>...</th>\n",
       "      <td>...</td>\n",
       "      <td>...</td>\n",
       "      <td>...</td>\n",
       "      <td>...</td>\n",
       "      <td>...</td>\n",
       "      <td>...</td>\n",
       "      <td>...</td>\n",
       "      <td>...</td>\n",
       "      <td>...</td>\n",
       "      <td>...</td>\n",
       "    </tr>\n",
       "    <tr>\n",
       "      <th>95</th>\n",
       "      <td>4</td>\n",
       "      <td>82</td>\n",
       "      <td>31</td>\n",
       "      <td>75.432236</td>\n",
       "      <td>6</td>\n",
       "      <td>86.0</td>\n",
       "      <td>10168</td>\n",
       "      <td>39.000000</td>\n",
       "      <td>484</td>\n",
       "      <td>20.500000</td>\n",
       "    </tr>\n",
       "    <tr>\n",
       "      <th>96</th>\n",
       "      <td>9</td>\n",
       "      <td>49</td>\n",
       "      <td>40</td>\n",
       "      <td>108.175445</td>\n",
       "      <td>11</td>\n",
       "      <td>58.0</td>\n",
       "      <td>17640</td>\n",
       "      <td>32.666667</td>\n",
       "      <td>493</td>\n",
       "      <td>5.444444</td>\n",
       "    </tr>\n",
       "    <tr>\n",
       "      <th>97</th>\n",
       "      <td>7</td>\n",
       "      <td>30</td>\n",
       "      <td>30</td>\n",
       "      <td>79.522774</td>\n",
       "      <td>9</td>\n",
       "      <td>37.0</td>\n",
       "      <td>6300</td>\n",
       "      <td>22.333333</td>\n",
       "      <td>500</td>\n",
       "      <td>4.285714</td>\n",
       "    </tr>\n",
       "    <tr>\n",
       "      <th>98</th>\n",
       "      <td>1</td>\n",
       "      <td>92</td>\n",
       "      <td>23</td>\n",
       "      <td>51.204168</td>\n",
       "      <td>3</td>\n",
       "      <td>93.0</td>\n",
       "      <td>2116</td>\n",
       "      <td>38.666667</td>\n",
       "      <td>501</td>\n",
       "      <td>92.000000</td>\n",
       "    </tr>\n",
       "    <tr>\n",
       "      <th>99</th>\n",
       "      <td>3</td>\n",
       "      <td>20</td>\n",
       "      <td>41</td>\n",
       "      <td>33.596876</td>\n",
       "      <td>5</td>\n",
       "      <td>23.0</td>\n",
       "      <td>2460</td>\n",
       "      <td>21.333333</td>\n",
       "      <td>504</td>\n",
       "      <td>6.666667</td>\n",
       "    </tr>\n",
       "  </tbody>\n",
       "</table>\n",
       "<p>100 rows × 10 columns</p>\n",
       "</div>"
      ],
      "text/plain": [
       "    A   B   C           D   E     F  product_ABC  rata-rata_abc  cumsum_a  \\\n",
       "0   1  35  34   21.669048   3  36.0         1190      23.333333         1   \n",
       "1   2  64  35   46.083920   4  66.0         4480      33.666667         3   \n",
       "2   8  20  34   84.169048  10  28.0         5440      20.666667        11   \n",
       "3   1  23  44   14.866750   3  24.0         1012      22.666667        12   \n",
       "4   6  50  31   79.432236   8  56.0         9300      29.000000        18   \n",
       ".. ..  ..  ..         ...  ..   ...          ...            ...       ...   \n",
       "95  4  82  31   75.432236   6  86.0        10168      39.000000       484   \n",
       "96  9  49  40  108.175445  11  58.0        17640      32.666667       493   \n",
       "97  7  30  30   79.522774   9  37.0         6300      22.333333       500   \n",
       "98  1  92  23   51.204168   3  93.0         2116      38.666667       501   \n",
       "99  3  20  41   33.596876   5  23.0         2460      21.333333       504   \n",
       "\n",
       "     B_bagi_A  \n",
       "0   35.000000  \n",
       "1   32.000000  \n",
       "2    2.500000  \n",
       "3   23.000000  \n",
       "4    8.333333  \n",
       "..        ...  \n",
       "95  20.500000  \n",
       "96   5.444444  \n",
       "97   4.285714  \n",
       "98  92.000000  \n",
       "99   6.666667  \n",
       "\n",
       "[100 rows x 10 columns]"
      ]
     },
     "execution_count": 209,
     "metadata": {},
     "output_type": "execute_result"
    }
   ],
   "source": [
    "df"
   ]
  },
  {
   "cell_type": "markdown",
   "id": "dd2441a0",
   "metadata": {},
   "source": [
    "Next, bagaimana jika kita ingin melakukan pemetaan? Misalnya:\n",
    "- Jika kolom A bernilai 1-3, kita beri label 'Kurang'\n",
    "- Jika kolom A bernilai 4-7, kita beri label 'Cukup'\n",
    "- Jika kolom A bernilai 8-10, kita beri label 'Surplus'"
   ]
  },
  {
   "cell_type": "code",
   "execution_count": 213,
   "id": "aaa40f5c",
   "metadata": {},
   "outputs": [],
   "source": [
    "def label(a):\n",
    "    if a<4:\n",
    "        return 'Kurang'\n",
    "    elif a<8:\n",
    "        return 'Cukup'\n",
    "    else:\n",
    "        return 'Surplus'"
   ]
  },
  {
   "cell_type": "code",
   "execution_count": 214,
   "id": "52b28674",
   "metadata": {},
   "outputs": [],
   "source": [
    "df['label_A'] = df['A'].apply(label)"
   ]
  },
  {
   "cell_type": "code",
   "execution_count": 215,
   "id": "ca195184",
   "metadata": {},
   "outputs": [
    {
     "data": {
      "text/html": [
       "<div>\n",
       "<style scoped>\n",
       "    .dataframe tbody tr th:only-of-type {\n",
       "        vertical-align: middle;\n",
       "    }\n",
       "\n",
       "    .dataframe tbody tr th {\n",
       "        vertical-align: top;\n",
       "    }\n",
       "\n",
       "    .dataframe thead th {\n",
       "        text-align: right;\n",
       "    }\n",
       "</style>\n",
       "<table border=\"1\" class=\"dataframe\">\n",
       "  <thead>\n",
       "    <tr style=\"text-align: right;\">\n",
       "      <th></th>\n",
       "      <th>A</th>\n",
       "      <th>B</th>\n",
       "      <th>C</th>\n",
       "      <th>D</th>\n",
       "      <th>E</th>\n",
       "      <th>F</th>\n",
       "      <th>product_ABC</th>\n",
       "      <th>rata-rata_abc</th>\n",
       "      <th>cumsum_a</th>\n",
       "      <th>B_bagi_A</th>\n",
       "      <th>label_A</th>\n",
       "    </tr>\n",
       "  </thead>\n",
       "  <tbody>\n",
       "    <tr>\n",
       "      <th>0</th>\n",
       "      <td>1</td>\n",
       "      <td>35</td>\n",
       "      <td>34</td>\n",
       "      <td>21.669048</td>\n",
       "      <td>3</td>\n",
       "      <td>36.0</td>\n",
       "      <td>1190</td>\n",
       "      <td>23.333333</td>\n",
       "      <td>1</td>\n",
       "      <td>35.000000</td>\n",
       "      <td>Kurang</td>\n",
       "    </tr>\n",
       "    <tr>\n",
       "      <th>1</th>\n",
       "      <td>2</td>\n",
       "      <td>64</td>\n",
       "      <td>35</td>\n",
       "      <td>46.083920</td>\n",
       "      <td>4</td>\n",
       "      <td>66.0</td>\n",
       "      <td>4480</td>\n",
       "      <td>33.666667</td>\n",
       "      <td>3</td>\n",
       "      <td>32.000000</td>\n",
       "      <td>Kurang</td>\n",
       "    </tr>\n",
       "    <tr>\n",
       "      <th>2</th>\n",
       "      <td>8</td>\n",
       "      <td>20</td>\n",
       "      <td>34</td>\n",
       "      <td>84.169048</td>\n",
       "      <td>10</td>\n",
       "      <td>28.0</td>\n",
       "      <td>5440</td>\n",
       "      <td>20.666667</td>\n",
       "      <td>11</td>\n",
       "      <td>2.500000</td>\n",
       "      <td>Surplus</td>\n",
       "    </tr>\n",
       "    <tr>\n",
       "      <th>3</th>\n",
       "      <td>1</td>\n",
       "      <td>23</td>\n",
       "      <td>44</td>\n",
       "      <td>14.866750</td>\n",
       "      <td>3</td>\n",
       "      <td>24.0</td>\n",
       "      <td>1012</td>\n",
       "      <td>22.666667</td>\n",
       "      <td>12</td>\n",
       "      <td>23.000000</td>\n",
       "      <td>Kurang</td>\n",
       "    </tr>\n",
       "    <tr>\n",
       "      <th>4</th>\n",
       "      <td>6</td>\n",
       "      <td>50</td>\n",
       "      <td>31</td>\n",
       "      <td>79.432236</td>\n",
       "      <td>8</td>\n",
       "      <td>56.0</td>\n",
       "      <td>9300</td>\n",
       "      <td>29.000000</td>\n",
       "      <td>18</td>\n",
       "      <td>8.333333</td>\n",
       "      <td>Cukup</td>\n",
       "    </tr>\n",
       "    <tr>\n",
       "      <th>...</th>\n",
       "      <td>...</td>\n",
       "      <td>...</td>\n",
       "      <td>...</td>\n",
       "      <td>...</td>\n",
       "      <td>...</td>\n",
       "      <td>...</td>\n",
       "      <td>...</td>\n",
       "      <td>...</td>\n",
       "      <td>...</td>\n",
       "      <td>...</td>\n",
       "      <td>...</td>\n",
       "    </tr>\n",
       "    <tr>\n",
       "      <th>95</th>\n",
       "      <td>4</td>\n",
       "      <td>82</td>\n",
       "      <td>31</td>\n",
       "      <td>75.432236</td>\n",
       "      <td>6</td>\n",
       "      <td>86.0</td>\n",
       "      <td>10168</td>\n",
       "      <td>39.000000</td>\n",
       "      <td>484</td>\n",
       "      <td>20.500000</td>\n",
       "      <td>Cukup</td>\n",
       "    </tr>\n",
       "    <tr>\n",
       "      <th>96</th>\n",
       "      <td>9</td>\n",
       "      <td>49</td>\n",
       "      <td>40</td>\n",
       "      <td>108.175445</td>\n",
       "      <td>11</td>\n",
       "      <td>58.0</td>\n",
       "      <td>17640</td>\n",
       "      <td>32.666667</td>\n",
       "      <td>493</td>\n",
       "      <td>5.444444</td>\n",
       "      <td>Surplus</td>\n",
       "    </tr>\n",
       "    <tr>\n",
       "      <th>97</th>\n",
       "      <td>7</td>\n",
       "      <td>30</td>\n",
       "      <td>30</td>\n",
       "      <td>79.522774</td>\n",
       "      <td>9</td>\n",
       "      <td>37.0</td>\n",
       "      <td>6300</td>\n",
       "      <td>22.333333</td>\n",
       "      <td>500</td>\n",
       "      <td>4.285714</td>\n",
       "      <td>Cukup</td>\n",
       "    </tr>\n",
       "    <tr>\n",
       "      <th>98</th>\n",
       "      <td>1</td>\n",
       "      <td>92</td>\n",
       "      <td>23</td>\n",
       "      <td>51.204168</td>\n",
       "      <td>3</td>\n",
       "      <td>93.0</td>\n",
       "      <td>2116</td>\n",
       "      <td>38.666667</td>\n",
       "      <td>501</td>\n",
       "      <td>92.000000</td>\n",
       "      <td>Kurang</td>\n",
       "    </tr>\n",
       "    <tr>\n",
       "      <th>99</th>\n",
       "      <td>3</td>\n",
       "      <td>20</td>\n",
       "      <td>41</td>\n",
       "      <td>33.596876</td>\n",
       "      <td>5</td>\n",
       "      <td>23.0</td>\n",
       "      <td>2460</td>\n",
       "      <td>21.333333</td>\n",
       "      <td>504</td>\n",
       "      <td>6.666667</td>\n",
       "      <td>Kurang</td>\n",
       "    </tr>\n",
       "  </tbody>\n",
       "</table>\n",
       "<p>100 rows × 11 columns</p>\n",
       "</div>"
      ],
      "text/plain": [
       "    A   B   C           D   E     F  product_ABC  rata-rata_abc  cumsum_a  \\\n",
       "0   1  35  34   21.669048   3  36.0         1190      23.333333         1   \n",
       "1   2  64  35   46.083920   4  66.0         4480      33.666667         3   \n",
       "2   8  20  34   84.169048  10  28.0         5440      20.666667        11   \n",
       "3   1  23  44   14.866750   3  24.0         1012      22.666667        12   \n",
       "4   6  50  31   79.432236   8  56.0         9300      29.000000        18   \n",
       ".. ..  ..  ..         ...  ..   ...          ...            ...       ...   \n",
       "95  4  82  31   75.432236   6  86.0        10168      39.000000       484   \n",
       "96  9  49  40  108.175445  11  58.0        17640      32.666667       493   \n",
       "97  7  30  30   79.522774   9  37.0         6300      22.333333       500   \n",
       "98  1  92  23   51.204168   3  93.0         2116      38.666667       501   \n",
       "99  3  20  41   33.596876   5  23.0         2460      21.333333       504   \n",
       "\n",
       "     B_bagi_A  label_A  \n",
       "0   35.000000   Kurang  \n",
       "1   32.000000   Kurang  \n",
       "2    2.500000  Surplus  \n",
       "3   23.000000   Kurang  \n",
       "4    8.333333    Cukup  \n",
       "..        ...      ...  \n",
       "95  20.500000    Cukup  \n",
       "96   5.444444  Surplus  \n",
       "97   4.285714    Cukup  \n",
       "98  92.000000   Kurang  \n",
       "99   6.666667   Kurang  \n",
       "\n",
       "[100 rows x 11 columns]"
      ]
     },
     "execution_count": 215,
     "metadata": {},
     "output_type": "execute_result"
    }
   ],
   "source": [
    "df"
   ]
  },
  {
   "cell_type": "markdown",
   "id": "40b11eb4",
   "metadata": {},
   "source": [
    "Nah, selain `apply`, sebenarnya ada juga yang namanya pemetaan menggunakan dictionary. Contohnya:"
   ]
  },
  {
   "cell_type": "code",
   "execution_count": 228,
   "id": "78a0c570",
   "metadata": {},
   "outputs": [],
   "source": [
    "warna_harga = {\n",
    "    'Kuning':15000,\n",
    "    'Hijau':10000,\n",
    "    'Biru':11000\n",
    "}\n",
    "\n",
    "df_laporan = pd.DataFrame({\n",
    "    'Warna':['Kuning', 'Kuning', 'Hijau', 'Kuning', 'Biru', 'Biru', 'Kuning', 'Hijau'],\n",
    "    'Kuantitas':[10,10,20,15,8,20,12,18]\n",
    "})"
   ]
  },
  {
   "cell_type": "code",
   "execution_count": 229,
   "id": "4fffc31e",
   "metadata": {},
   "outputs": [
    {
     "data": {
      "text/html": [
       "<div>\n",
       "<style scoped>\n",
       "    .dataframe tbody tr th:only-of-type {\n",
       "        vertical-align: middle;\n",
       "    }\n",
       "\n",
       "    .dataframe tbody tr th {\n",
       "        vertical-align: top;\n",
       "    }\n",
       "\n",
       "    .dataframe thead th {\n",
       "        text-align: right;\n",
       "    }\n",
       "</style>\n",
       "<table border=\"1\" class=\"dataframe\">\n",
       "  <thead>\n",
       "    <tr style=\"text-align: right;\">\n",
       "      <th></th>\n",
       "      <th>Warna</th>\n",
       "      <th>Kuantitas</th>\n",
       "    </tr>\n",
       "  </thead>\n",
       "  <tbody>\n",
       "    <tr>\n",
       "      <th>0</th>\n",
       "      <td>Kuning</td>\n",
       "      <td>10</td>\n",
       "    </tr>\n",
       "    <tr>\n",
       "      <th>1</th>\n",
       "      <td>Kuning</td>\n",
       "      <td>10</td>\n",
       "    </tr>\n",
       "    <tr>\n",
       "      <th>2</th>\n",
       "      <td>Hijau</td>\n",
       "      <td>20</td>\n",
       "    </tr>\n",
       "    <tr>\n",
       "      <th>3</th>\n",
       "      <td>Kuning</td>\n",
       "      <td>15</td>\n",
       "    </tr>\n",
       "    <tr>\n",
       "      <th>4</th>\n",
       "      <td>Biru</td>\n",
       "      <td>8</td>\n",
       "    </tr>\n",
       "    <tr>\n",
       "      <th>5</th>\n",
       "      <td>Biru</td>\n",
       "      <td>20</td>\n",
       "    </tr>\n",
       "    <tr>\n",
       "      <th>6</th>\n",
       "      <td>Kuning</td>\n",
       "      <td>12</td>\n",
       "    </tr>\n",
       "    <tr>\n",
       "      <th>7</th>\n",
       "      <td>Hijau</td>\n",
       "      <td>18</td>\n",
       "    </tr>\n",
       "  </tbody>\n",
       "</table>\n",
       "</div>"
      ],
      "text/plain": [
       "    Warna  Kuantitas\n",
       "0  Kuning         10\n",
       "1  Kuning         10\n",
       "2   Hijau         20\n",
       "3  Kuning         15\n",
       "4    Biru          8\n",
       "5    Biru         20\n",
       "6  Kuning         12\n",
       "7   Hijau         18"
      ]
     },
     "execution_count": 229,
     "metadata": {},
     "output_type": "execute_result"
    }
   ],
   "source": [
    "df_laporan"
   ]
  },
  {
   "cell_type": "code",
   "execution_count": 230,
   "id": "2ef80c30",
   "metadata": {},
   "outputs": [],
   "source": [
    "df_laporan['harga_satuan'] = df_laporan['Warna'].map(warna_harga)"
   ]
  },
  {
   "cell_type": "code",
   "execution_count": 231,
   "id": "bab6dfd3",
   "metadata": {},
   "outputs": [],
   "source": [
    "df_laporan['total_harga'] = df_laporan['Kuantitas'] * df_laporan['harga_satuan']"
   ]
  },
  {
   "cell_type": "code",
   "execution_count": 232,
   "id": "e6332ebc",
   "metadata": {},
   "outputs": [
    {
     "data": {
      "text/html": [
       "<div>\n",
       "<style scoped>\n",
       "    .dataframe tbody tr th:only-of-type {\n",
       "        vertical-align: middle;\n",
       "    }\n",
       "\n",
       "    .dataframe tbody tr th {\n",
       "        vertical-align: top;\n",
       "    }\n",
       "\n",
       "    .dataframe thead th {\n",
       "        text-align: right;\n",
       "    }\n",
       "</style>\n",
       "<table border=\"1\" class=\"dataframe\">\n",
       "  <thead>\n",
       "    <tr style=\"text-align: right;\">\n",
       "      <th></th>\n",
       "      <th>Warna</th>\n",
       "      <th>Kuantitas</th>\n",
       "      <th>harga_satuan</th>\n",
       "      <th>total_harga</th>\n",
       "    </tr>\n",
       "  </thead>\n",
       "  <tbody>\n",
       "    <tr>\n",
       "      <th>0</th>\n",
       "      <td>Kuning</td>\n",
       "      <td>10</td>\n",
       "      <td>15000</td>\n",
       "      <td>150000</td>\n",
       "    </tr>\n",
       "    <tr>\n",
       "      <th>1</th>\n",
       "      <td>Kuning</td>\n",
       "      <td>10</td>\n",
       "      <td>15000</td>\n",
       "      <td>150000</td>\n",
       "    </tr>\n",
       "    <tr>\n",
       "      <th>2</th>\n",
       "      <td>Hijau</td>\n",
       "      <td>20</td>\n",
       "      <td>10000</td>\n",
       "      <td>200000</td>\n",
       "    </tr>\n",
       "    <tr>\n",
       "      <th>3</th>\n",
       "      <td>Kuning</td>\n",
       "      <td>15</td>\n",
       "      <td>15000</td>\n",
       "      <td>225000</td>\n",
       "    </tr>\n",
       "    <tr>\n",
       "      <th>4</th>\n",
       "      <td>Biru</td>\n",
       "      <td>8</td>\n",
       "      <td>11000</td>\n",
       "      <td>88000</td>\n",
       "    </tr>\n",
       "    <tr>\n",
       "      <th>5</th>\n",
       "      <td>Biru</td>\n",
       "      <td>20</td>\n",
       "      <td>11000</td>\n",
       "      <td>220000</td>\n",
       "    </tr>\n",
       "    <tr>\n",
       "      <th>6</th>\n",
       "      <td>Kuning</td>\n",
       "      <td>12</td>\n",
       "      <td>15000</td>\n",
       "      <td>180000</td>\n",
       "    </tr>\n",
       "    <tr>\n",
       "      <th>7</th>\n",
       "      <td>Hijau</td>\n",
       "      <td>18</td>\n",
       "      <td>10000</td>\n",
       "      <td>180000</td>\n",
       "    </tr>\n",
       "  </tbody>\n",
       "</table>\n",
       "</div>"
      ],
      "text/plain": [
       "    Warna  Kuantitas  harga_satuan  total_harga\n",
       "0  Kuning         10         15000       150000\n",
       "1  Kuning         10         15000       150000\n",
       "2   Hijau         20         10000       200000\n",
       "3  Kuning         15         15000       225000\n",
       "4    Biru          8         11000        88000\n",
       "5    Biru         20         11000       220000\n",
       "6  Kuning         12         15000       180000\n",
       "7   Hijau         18         10000       180000"
      ]
     },
     "execution_count": 232,
     "metadata": {},
     "output_type": "execute_result"
    }
   ],
   "source": [
    "df_laporan"
   ]
  },
  {
   "cell_type": "markdown",
   "id": "e44c5f95",
   "metadata": {},
   "source": [
    "### VI. Data Standardization"
   ]
  },
  {
   "cell_type": "code",
   "execution_count": 233,
   "id": "5d80d411",
   "metadata": {},
   "outputs": [],
   "source": [
    "from sklearn import preprocessing"
   ]
  },
  {
   "cell_type": "code",
   "execution_count": 234,
   "id": "ee7ba5c5",
   "metadata": {},
   "outputs": [
    {
     "data": {
      "text/plain": [
       "5.843333333333334"
      ]
     },
     "execution_count": 234,
     "metadata": {},
     "output_type": "execute_result"
    }
   ],
   "source": [
    "iris['sepal_length'].mean()"
   ]
  },
  {
   "cell_type": "code",
   "execution_count": 235,
   "id": "cc903539",
   "metadata": {},
   "outputs": [
    {
     "data": {
      "text/plain": [
       "0.828066127977863"
      ]
     },
     "execution_count": 235,
     "metadata": {},
     "output_type": "execute_result"
    }
   ],
   "source": [
    "iris['sepal_length'].std()"
   ]
  },
  {
   "cell_type": "code",
   "execution_count": 240,
   "id": "ccc3b158",
   "metadata": {},
   "outputs": [
    {
     "data": {
      "text/plain": [
       "Index(['sepal_length', 'sepal_width', 'petal_length', 'petal_width',\n",
       "       'species'],\n",
       "      dtype='object')"
      ]
     },
     "execution_count": 240,
     "metadata": {},
     "output_type": "execute_result"
    }
   ],
   "source": [
    "iris.columns"
   ]
  },
  {
   "cell_type": "code",
   "execution_count": 238,
   "id": "ed7a35ca",
   "metadata": {},
   "outputs": [],
   "source": [
    "standardized_iris = pd.DataFrame(preprocessing.scale(iris[['sepal_length',\n",
    "                                              'sepal_width',\n",
    "                                              'petal_length',\n",
    "                                              'petal_width']]))\n",
    "standardized_iris['species'] = iris['species']"
   ]
  },
  {
   "cell_type": "code",
   "execution_count": 241,
   "id": "fd3ec597",
   "metadata": {},
   "outputs": [],
   "source": [
    "standardized_iris.columns = iris.columns"
   ]
  },
  {
   "cell_type": "code",
   "execution_count": 242,
   "id": "85280a04",
   "metadata": {},
   "outputs": [
    {
     "data": {
      "text/html": [
       "<div>\n",
       "<style scoped>\n",
       "    .dataframe tbody tr th:only-of-type {\n",
       "        vertical-align: middle;\n",
       "    }\n",
       "\n",
       "    .dataframe tbody tr th {\n",
       "        vertical-align: top;\n",
       "    }\n",
       "\n",
       "    .dataframe thead th {\n",
       "        text-align: right;\n",
       "    }\n",
       "</style>\n",
       "<table border=\"1\" class=\"dataframe\">\n",
       "  <thead>\n",
       "    <tr style=\"text-align: right;\">\n",
       "      <th></th>\n",
       "      <th>sepal_length</th>\n",
       "      <th>sepal_width</th>\n",
       "      <th>petal_length</th>\n",
       "      <th>petal_width</th>\n",
       "      <th>species</th>\n",
       "    </tr>\n",
       "  </thead>\n",
       "  <tbody>\n",
       "    <tr>\n",
       "      <th>0</th>\n",
       "      <td>-0.900681</td>\n",
       "      <td>1.032057</td>\n",
       "      <td>-1.341272</td>\n",
       "      <td>-1.312977</td>\n",
       "      <td>setosa</td>\n",
       "    </tr>\n",
       "    <tr>\n",
       "      <th>1</th>\n",
       "      <td>-1.143017</td>\n",
       "      <td>-0.124958</td>\n",
       "      <td>-1.341272</td>\n",
       "      <td>-1.312977</td>\n",
       "      <td>setosa</td>\n",
       "    </tr>\n",
       "    <tr>\n",
       "      <th>2</th>\n",
       "      <td>-1.385353</td>\n",
       "      <td>0.337848</td>\n",
       "      <td>-1.398138</td>\n",
       "      <td>-1.312977</td>\n",
       "      <td>setosa</td>\n",
       "    </tr>\n",
       "    <tr>\n",
       "      <th>3</th>\n",
       "      <td>-1.506521</td>\n",
       "      <td>0.106445</td>\n",
       "      <td>-1.284407</td>\n",
       "      <td>-1.312977</td>\n",
       "      <td>setosa</td>\n",
       "    </tr>\n",
       "    <tr>\n",
       "      <th>4</th>\n",
       "      <td>-1.021849</td>\n",
       "      <td>1.263460</td>\n",
       "      <td>-1.341272</td>\n",
       "      <td>-1.312977</td>\n",
       "      <td>setosa</td>\n",
       "    </tr>\n",
       "    <tr>\n",
       "      <th>...</th>\n",
       "      <td>...</td>\n",
       "      <td>...</td>\n",
       "      <td>...</td>\n",
       "      <td>...</td>\n",
       "      <td>...</td>\n",
       "    </tr>\n",
       "    <tr>\n",
       "      <th>145</th>\n",
       "      <td>1.038005</td>\n",
       "      <td>-0.124958</td>\n",
       "      <td>0.819624</td>\n",
       "      <td>1.447956</td>\n",
       "      <td>virginica</td>\n",
       "    </tr>\n",
       "    <tr>\n",
       "      <th>146</th>\n",
       "      <td>0.553333</td>\n",
       "      <td>-1.281972</td>\n",
       "      <td>0.705893</td>\n",
       "      <td>0.922064</td>\n",
       "      <td>virginica</td>\n",
       "    </tr>\n",
       "    <tr>\n",
       "      <th>147</th>\n",
       "      <td>0.795669</td>\n",
       "      <td>-0.124958</td>\n",
       "      <td>0.819624</td>\n",
       "      <td>1.053537</td>\n",
       "      <td>virginica</td>\n",
       "    </tr>\n",
       "    <tr>\n",
       "      <th>148</th>\n",
       "      <td>0.432165</td>\n",
       "      <td>0.800654</td>\n",
       "      <td>0.933356</td>\n",
       "      <td>1.447956</td>\n",
       "      <td>virginica</td>\n",
       "    </tr>\n",
       "    <tr>\n",
       "      <th>149</th>\n",
       "      <td>0.068662</td>\n",
       "      <td>-0.124958</td>\n",
       "      <td>0.762759</td>\n",
       "      <td>0.790591</td>\n",
       "      <td>virginica</td>\n",
       "    </tr>\n",
       "  </tbody>\n",
       "</table>\n",
       "<p>150 rows × 5 columns</p>\n",
       "</div>"
      ],
      "text/plain": [
       "     sepal_length  sepal_width  petal_length  petal_width    species\n",
       "0       -0.900681     1.032057     -1.341272    -1.312977     setosa\n",
       "1       -1.143017    -0.124958     -1.341272    -1.312977     setosa\n",
       "2       -1.385353     0.337848     -1.398138    -1.312977     setosa\n",
       "3       -1.506521     0.106445     -1.284407    -1.312977     setosa\n",
       "4       -1.021849     1.263460     -1.341272    -1.312977     setosa\n",
       "..            ...          ...           ...          ...        ...\n",
       "145      1.038005    -0.124958      0.819624     1.447956  virginica\n",
       "146      0.553333    -1.281972      0.705893     0.922064  virginica\n",
       "147      0.795669    -0.124958      0.819624     1.053537  virginica\n",
       "148      0.432165     0.800654      0.933356     1.447956  virginica\n",
       "149      0.068662    -0.124958      0.762759     0.790591  virginica\n",
       "\n",
       "[150 rows x 5 columns]"
      ]
     },
     "execution_count": 242,
     "metadata": {},
     "output_type": "execute_result"
    }
   ],
   "source": [
    "standardized_iris"
   ]
  },
  {
   "cell_type": "code",
   "execution_count": 246,
   "id": "3d87f412",
   "metadata": {},
   "outputs": [
    {
     "data": {
      "text/plain": [
       "-4.736951571734001e-16"
      ]
     },
     "execution_count": 246,
     "metadata": {},
     "output_type": "execute_result"
    }
   ],
   "source": [
    "standardized_iris['sepal_length'].mean()"
   ]
  },
  {
   "cell_type": "code",
   "execution_count": 244,
   "id": "45d22c01",
   "metadata": {},
   "outputs": [
    {
     "data": {
      "text/plain": [
       "1.0033500931359767"
      ]
     },
     "execution_count": 244,
     "metadata": {},
     "output_type": "execute_result"
    }
   ],
   "source": [
    "standardized_iris['sepal_length'].std()"
   ]
  },
  {
   "cell_type": "code",
   "execution_count": null,
   "id": "feac1532",
   "metadata": {},
   "outputs": [],
   "source": []
  }
 ],
 "metadata": {
  "kernelspec": {
   "display_name": "Python 3",
   "language": "python",
   "name": "python3"
  },
  "language_info": {
   "codemirror_mode": {
    "name": "ipython",
    "version": 3
   },
   "file_extension": ".py",
   "mimetype": "text/x-python",
   "name": "python",
   "nbconvert_exporter": "python",
   "pygments_lexer": "ipython3",
   "version": "3.7.0"
  }
 },
 "nbformat": 4,
 "nbformat_minor": 5
}
